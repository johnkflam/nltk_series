{
 "cells": [
  {
   "cell_type": "markdown",
   "metadata": {},
   "source": [
    "##### posterior = prior occurences x likihood / evidence"
   ]
  },
  {
   "cell_type": "code",
   "execution_count": 1,
   "metadata": {
    "collapsed": true
   },
   "outputs": [],
   "source": [
    "def gender_features(word):\n",
    "    return {'last_letter': word[-1],'first_letter':word[0],'length':len(word)}"
   ]
  },
  {
   "cell_type": "code",
   "execution_count": 2,
   "metadata": {
    "collapsed": false
   },
   "outputs": [
    {
     "data": {
      "text/plain": [
       "{'first_letter': 'l', 'last_letter': 's', 'length': 15}"
      ]
     },
     "execution_count": 2,
     "metadata": {},
     "output_type": "execute_result"
    }
   ],
   "source": [
    "gender_features('lady on the bus')"
   ]
  },
  {
   "cell_type": "code",
   "execution_count": 3,
   "metadata": {
    "collapsed": true
   },
   "outputs": [],
   "source": [
    "from nltk.corpus import names"
   ]
  },
  {
   "cell_type": "code",
   "execution_count": 5,
   "metadata": {
    "collapsed": false
   },
   "outputs": [],
   "source": [
    "male_names = [(name,'male') for name in names.words('male.txt')]"
   ]
  },
  {
   "cell_type": "code",
   "execution_count": 6,
   "metadata": {
    "collapsed": true
   },
   "outputs": [],
   "source": [
    "female_names = [(name,'female') for name in names.words('female.txt')]"
   ]
  },
  {
   "cell_type": "code",
   "execution_count": 7,
   "metadata": {
    "collapsed": false
   },
   "outputs": [],
   "source": [
    "labeled_names = (male_names+female_names)"
   ]
  },
  {
   "cell_type": "code",
   "execution_count": 8,
   "metadata": {
    "collapsed": false
   },
   "outputs": [],
   "source": [
    "import random\n",
    "random.shuffle(labeled_names)"
   ]
  },
  {
   "cell_type": "code",
   "execution_count": 9,
   "metadata": {
    "collapsed": true
   },
   "outputs": [],
   "source": [
    "# loop through all the names and find the features\n",
    "# each tuple is ({'first_letter': 'l', 'last_letter': 's', 'length': 15},'male')\n",
    "featuresets = [(gender_features(n),gender) for n,gender in labeled_names]"
   ]
  },
  {
   "cell_type": "code",
   "execution_count": 10,
   "metadata": {
    "collapsed": false
   },
   "outputs": [
    {
     "data": {
      "text/plain": [
       "7944"
      ]
     },
     "execution_count": 10,
     "metadata": {},
     "output_type": "execute_result"
    }
   ],
   "source": [
    "len(featuresets)"
   ]
  },
  {
   "cell_type": "code",
   "execution_count": 11,
   "metadata": {
    "collapsed": true
   },
   "outputs": [],
   "source": [
    "train_set, test_set = featuresets[:1900], featuresets[1900:]"
   ]
  },
  {
   "cell_type": "code",
   "execution_count": 12,
   "metadata": {
    "collapsed": true
   },
   "outputs": [],
   "source": [
    "import nltk"
   ]
  },
  {
   "cell_type": "code",
   "execution_count": 13,
   "metadata": {
    "collapsed": false
   },
   "outputs": [],
   "source": [
    "classifier = nltk.NaiveBayesClassifier.train(train_set)"
   ]
  },
  {
   "cell_type": "code",
   "execution_count": 14,
   "metadata": {
    "collapsed": false
   },
   "outputs": [
    {
     "data": {
      "text/plain": [
       "[({'first_letter': u'J', 'last_letter': u'e', 'length': 8}, 'female'),\n",
       " ({'first_letter': u'T', 'last_letter': u'a', 'length': 5}, 'female'),\n",
       " ({'first_letter': u'C', 'last_letter': u'e', 'length': 6}, 'female'),\n",
       " ({'first_letter': u'E', 'last_letter': u'n', 'length': 4}, 'male'),\n",
       " ({'first_letter': u'J', 'last_letter': u'n', 'length': 7}, 'male'),\n",
       " ({'first_letter': u'F', 'last_letter': u'y', 'length': 5}, 'female'),\n",
       " ({'first_letter': u'C', 'last_letter': u'a', 'length': 7}, 'female'),\n",
       " ({'first_letter': u'K', 'last_letter': u'e', 'length': 7}, 'female'),\n",
       " ({'first_letter': u'Q', 'last_letter': u'a', 'length': 8}, 'female'),\n",
       " ({'first_letter': u'J', 'last_letter': u'e', 'length': 7}, 'female')]"
      ]
     },
     "execution_count": 14,
     "metadata": {},
     "output_type": "execute_result"
    }
   ],
   "source": [
    "train_set[:10]"
   ]
  },
  {
   "cell_type": "code",
   "execution_count": 15,
   "metadata": {
    "collapsed": false
   },
   "outputs": [
    {
     "data": {
      "text/plain": [
       "'male'"
      ]
     },
     "execution_count": 15,
     "metadata": {},
     "output_type": "execute_result"
    }
   ],
   "source": [
    "classifier.classify(gender_features('abby'))"
   ]
  },
  {
   "cell_type": "code",
   "execution_count": 16,
   "metadata": {
    "collapsed": false
   },
   "outputs": [
    {
     "name": "stdout",
     "output_type": "stream",
     "text": [
      "0.774156187955\n"
     ]
    }
   ],
   "source": [
    "print nltk.classify.accuracy(classifier,test_set)"
   ]
  },
  {
   "cell_type": "code",
   "execution_count": 17,
   "metadata": {
    "collapsed": false
   },
   "outputs": [
    {
     "name": "stdout",
     "output_type": "stream",
     "text": [
      "Most Informative Features\n",
      "             last_letter = u'a'           female : male   =     41.5 : 1.0\n",
      "             last_letter = u'm'             male : female =     17.0 : 1.0\n",
      "             last_letter = u'd'             male : female =     11.5 : 1.0\n",
      "             last_letter = u'g'             male : female =      8.2 : 1.0\n",
      "             last_letter = u'o'             male : female =      6.8 : 1.0\n",
      "             last_letter = u't'             male : female =      6.7 : 1.0\n",
      "             last_letter = u'r'             male : female =      5.7 : 1.0\n",
      "             last_letter = u'z'             male : female =      4.9 : 1.0\n",
      "            first_letter = u'U'             male : female =      4.9 : 1.0\n",
      "            first_letter = u'W'             male : female =      4.0 : 1.0\n",
      "             last_letter = u'w'             male : female =      3.8 : 1.0\n",
      "             last_letter = u's'             male : female =      3.6 : 1.0\n",
      "             last_letter = u'b'             male : female =      3.0 : 1.0\n",
      "            first_letter = u'Q'             male : female =      3.0 : 1.0\n",
      "             last_letter = u'i'           female : male   =      2.7 : 1.0\n"
     ]
    }
   ],
   "source": [
    "classifier.show_most_informative_features(15)"
   ]
  },
  {
   "cell_type": "code",
   "execution_count": null,
   "metadata": {
    "collapsed": true
   },
   "outputs": [],
   "source": []
  }
 ],
 "metadata": {
  "anaconda-cloud": {},
  "kernelspec": {
   "display_name": "Python [conda root]",
   "language": "python",
   "name": "conda-root-py"
  },
  "language_info": {
   "codemirror_mode": {
    "name": "ipython",
    "version": 2
   },
   "file_extension": ".py",
   "mimetype": "text/x-python",
   "name": "python",
   "nbconvert_exporter": "python",
   "pygments_lexer": "ipython2",
   "version": "2.7.12"
  }
 },
 "nbformat": 4,
 "nbformat_minor": 1
}
