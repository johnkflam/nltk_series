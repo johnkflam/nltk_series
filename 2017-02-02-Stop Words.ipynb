{
 "cells": [
  {
   "cell_type": "code",
   "execution_count": 4,
   "metadata": {
    "collapsed": true
   },
   "outputs": [],
   "source": [
    "from nltk.corpus import stopwords\n",
    "from nltk.tokenize import word_tokenize"
   ]
  },
  {
   "cell_type": "code",
   "execution_count": 24,
   "metadata": {
    "collapsed": true
   },
   "outputs": [],
   "source": [
    "s = '''On Thursday, Trump declined to rule out the prospect of military action against the Islamic Republic.\n",
    "\"Nothing's off the table,\" he said.\n",
    "Trump National Security Adviser Michael Flynn condemned Wednesday Iran's recent ballistic missile test launch, calling it a \"provocative\" breach of a UN Security Council resolution. Iran denies that's it's violated any UN mandate.'''"
   ]
  },
  {
   "cell_type": "code",
   "execution_count": 23,
   "metadata": {
    "collapsed": false
   },
   "outputs": [],
   "source": [
    "sw = set(stopwords.words(\"english\"))"
   ]
  },
  {
   "cell_type": "code",
   "execution_count": 25,
   "metadata": {
    "collapsed": true
   },
   "outputs": [],
   "source": [
    "words = word_tokenize(s)"
   ]
  },
  {
   "cell_type": "code",
   "execution_count": 31,
   "metadata": {
    "collapsed": false
   },
   "outputs": [],
   "source": [
    "sw.add(\"'s\")"
   ]
  },
  {
   "cell_type": "code",
   "execution_count": 32,
   "metadata": {
    "collapsed": true
   },
   "outputs": [
    {
     "data": {
      "text/plain": [
       "['On',\n",
       " 'Thursday',\n",
       " ',',\n",
       " 'Trump',\n",
       " 'declined',\n",
       " 'rule',\n",
       " 'prospect',\n",
       " 'military',\n",
       " 'action',\n",
       " 'Islamic',\n",
       " 'Republic',\n",
       " '.',\n",
       " '``',\n",
       " 'Nothing',\n",
       " 'table',\n",
       " ',',\n",
       " \"''\",\n",
       " 'said',\n",
       " '.',\n",
       " 'Trump',\n",
       " 'National',\n",
       " 'Security',\n",
       " 'Adviser',\n",
       " 'Michael',\n",
       " 'Flynn',\n",
       " 'condemned',\n",
       " 'Wednesday',\n",
       " 'Iran',\n",
       " 'recent',\n",
       " 'ballistic',\n",
       " 'missile',\n",
       " 'test',\n",
       " 'launch',\n",
       " ',',\n",
       " 'calling',\n",
       " '``',\n",
       " 'provocative',\n",
       " \"''\",\n",
       " 'breach',\n",
       " 'UN',\n",
       " 'Security',\n",
       " 'Council',\n",
       " 'resolution',\n",
       " '.',\n",
       " 'Iran',\n",
       " 'denies',\n",
       " 'violated',\n",
       " 'UN',\n",
       " 'mandate',\n",
       " '.']"
      ]
     },
     "execution_count": 32,
     "metadata": {},
     "output_type": "execute_result"
    }
   ],
   "source": [
    "\n",
    "filter_list=[x for x in words if x not in sw]\n",
    "filter_list"
   ]
  },
  {
   "cell_type": "code",
   "execution_count": 27,
   "metadata": {
    "collapsed": false
   },
   "outputs": [
    {
     "data": {
      "text/plain": [
       "['On',\n",
       " 'Thursday',\n",
       " ',',\n",
       " 'Trump',\n",
       " 'declined',\n",
       " 'rule',\n",
       " 'prospect',\n",
       " 'military',\n",
       " 'action',\n",
       " 'Islamic',\n",
       " 'Republic',\n",
       " '.',\n",
       " '``',\n",
       " 'Nothing',\n",
       " \"'s\",\n",
       " 'table',\n",
       " ',',\n",
       " \"''\",\n",
       " 'said',\n",
       " '.',\n",
       " 'Trump',\n",
       " 'National',\n",
       " 'Security',\n",
       " 'Adviser',\n",
       " 'Michael',\n",
       " 'Flynn',\n",
       " 'condemned',\n",
       " 'Wednesday',\n",
       " 'Iran',\n",
       " \"'s\",\n",
       " 'recent',\n",
       " 'ballistic',\n",
       " 'missile',\n",
       " 'test',\n",
       " 'launch',\n",
       " ',',\n",
       " 'calling',\n",
       " '``',\n",
       " 'provocative',\n",
       " \"''\",\n",
       " 'breach',\n",
       " 'UN',\n",
       " 'Security',\n",
       " 'Council',\n",
       " 'resolution',\n",
       " '.',\n",
       " 'Iran',\n",
       " 'denies',\n",
       " \"'s\",\n",
       " \"'s\",\n",
       " 'violated',\n",
       " 'UN',\n",
       " 'mandate',\n",
       " '.']"
      ]
     },
     "execution_count": 27,
     "metadata": {},
     "output_type": "execute_result"
    }
   ],
   "source": []
  },
  {
   "cell_type": "code",
   "execution_count": null,
   "metadata": {
    "collapsed": true
   },
   "outputs": [],
   "source": []
  }
 ],
 "metadata": {
  "anaconda-cloud": {},
  "kernelspec": {
   "display_name": "Python [default]",
   "language": "python",
   "name": "python2"
  },
  "language_info": {
   "codemirror_mode": {
    "name": "ipython",
    "version": 2
   },
   "file_extension": ".py",
   "mimetype": "text/x-python",
   "name": "python",
   "nbconvert_exporter": "python",
   "pygments_lexer": "ipython2",
   "version": "2.7.12"
  }
 },
 "nbformat": 4,
 "nbformat_minor": 1
}
