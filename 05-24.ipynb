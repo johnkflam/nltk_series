{
 "cells": [
  {
   "cell_type": "code",
   "execution_count": 1,
   "metadata": {
    "collapsed": true
   },
   "outputs": [],
   "source": [
    "import process_timecard_notes as ptn"
   ]
  },
  {
   "cell_type": "code",
   "execution_count": 3,
   "metadata": {
    "collapsed": false
   },
   "outputs": [],
   "source": [
    "df = ptn.get_tc_notes_df('2017-01-01','2017-04-01')"
   ]
  },
  {
   "cell_type": "code",
   "execution_count": 4,
   "metadata": {
    "collapsed": true
   },
   "outputs": [],
   "source": [
    "tagged=ptn.tag_all_words(df)"
   ]
  },
  {
   "cell_type": "code",
   "execution_count": 5,
   "metadata": {
    "collapsed": true
   },
   "outputs": [],
   "source": [
    "import jlam.nltk_util as nu"
   ]
  },
  {
   "cell_type": "code",
   "execution_count": 6,
   "metadata": {
    "collapsed": true
   },
   "outputs": [],
   "source": [
    "common_nouns=nu.get_most_common(tagged,100)"
   ]
  },
  {
   "cell_type": "code",
   "execution_count": 7,
   "metadata": {
    "collapsed": false
   },
   "outputs": [
    {
     "data": {
      "text/plain": [
       "[((u',', ','), 7943),\n",
       " ((u'none', 'NN'), 7165),\n",
       " ((u'email', 'NN'), 2234),\n",
       " ((u'emails', 'NNS'), 1788),\n",
       " ((u'admin', 'NN'), 1446),\n",
       " ((u'time', 'NN'), 1057),\n",
       " ((u'general', 'JJ'), 1002),\n",
       " ((u'timecards', 'NNS'), 880),\n",
       " ((u'emails', 'VBZ'), 758),\n",
       " ((u'.', '.'), 707),\n",
       " ((u'timecard', 'NN'), 567),\n",
       " ((u'chatter', 'NN'), 515),\n",
       " ((u'internal', 'JJ'), 510),\n",
       " ((u'&', 'CC'), 498),\n",
       " ((u'etc', 'FW'), 495),\n",
       " ((u'-', ':'), 410),\n",
       " ((u'timecard', 'RB'), 398),\n",
       " ((u'team', 'NN'), 392),\n",
       " ((u'reports', 'NNS'), 362),\n",
       " ((u';', ':'), 324),\n",
       " ((u'project', 'NN'), 309),\n",
       " ((u'email', 'VBP'), 299),\n",
       " ((u'psa', 'NN'), 298),\n",
       " ((u'notes', 'NNS'), 284),\n",
       " ((u'salesforce', 'NN'), 275),\n",
       " ((u'client', 'NN'), 269),\n",
       " ((u'(', '('), 265),\n",
       " ((u'review', 'NN'), 256),\n",
       " ((u'tracking', 'VBG'), 255),\n",
       " ((u'projects', 'NNS'), 240),\n",
       " ((u'maintenance', 'NN'), 233),\n",
       " ((u'expense', 'NN'), 226),\n",
       " ((u'assigning', 'VBG'), 214),\n",
       " ((u'cases', 'NNS'), 210),\n",
       " ((u')', ')'), 206),\n",
       " ((u'working', 'VBG'), 206),\n",
       " ((u'pc', 'NN'), 202),\n",
       " ((u'assignments', 'NNS'), 200),\n",
       " ((u'submitting', 'VBG'), 185),\n",
       " ((u'research', 'NN'), 183),\n",
       " ((u'tasks', 'NNS'), 182),\n",
       " ((u'case', 'NN'), 180),\n",
       " ((u'card', 'NN'), 177),\n",
       " ((u'admin', 'JJ'), 173),\n",
       " ((u'support', 'NN'), 171),\n",
       " ((u'/', 'NNP'), 168),\n",
       " ((u'tracking', 'NN'), 166),\n",
       " ((u'entry', 'NN'), 161),\n",
       " ((u'misc', 'NN'), 154),\n",
       " ((u'planning', 'NN'), 154),\n",
       " ((u'calls', 'NNS'), 153),\n",
       " ((u'release', 'NN'), 152),\n",
       " ((u'attention', 'NN'), 150),\n",
       " ((u'admin', 'IN'), 144),\n",
       " ((u'emails', 'VBP'), 144),\n",
       " ((u'reporting', 'NN'), 141),\n",
       " ((u'call', 'NN'), 137),\n",
       " ((u'work', 'NN'), 135),\n",
       " ((u'objectives', 'NNS'), 134),\n",
       " ((u'none', 'VBP'), 132),\n",
       " ((u'email', 'JJ'), 130),\n",
       " ((u'new', 'JJ'), 128),\n",
       " ((u'smart', 'JJ'), 128),\n",
       " ((u'weekly', 'JJ'), 124),\n",
       " ((u'reviews', 'NNS'), 124),\n",
       " ((u'prep', 'NN'), 116),\n",
       " ((u'clients', 'NNS'), 115),\n",
       " ((u'task', 'NN'), 115),\n",
       " ((u'scheduling', 'NN'), 112),\n",
       " ((u'completing', 'VBG'), 111),\n",
       " ((u'checking', 'VBG'), 111),\n",
       " ((u'hr', 'NN'), 109),\n",
       " ((u'meeting', 'NN'), 109),\n",
       " ((u'report', 'NN'), 108),\n",
       " ((u'calls', 'VBZ'), 108),\n",
       " ((u'issues', 'NNS'), 105),\n",
       " ((u':', ':'), 104),\n",
       " ((u'admin', 'VBP'), 100),\n",
       " ((u'includes', 'VBZ'), 95),\n",
       " ((u'updates', 'NNS'), 95),\n",
       " ((u'completing', 'NN'), 91),\n",
       " ((u'questions', 'NNS'), 91),\n",
       " ((u'emails', 'JJ'), 90),\n",
       " ((u'none', 'RB'), 88),\n",
       " ((u\"'s\", 'POS'), 87),\n",
       " ((u'escalations', 'NNS'), 87),\n",
       " ((u'timecard', 'IN'), 87),\n",
       " ((u'activities', 'NNS'), 84),\n",
       " ((u'update', 'JJ'), 82),\n",
       " ((u'meetings', 'NNS'), 82),\n",
       " ((u'others', 'NNS'), 81),\n",
       " ((u'cleanup', 'NN'), 80),\n",
       " ((u'mails', 'NNS'), 80),\n",
       " ((u'timecard', 'JJ'), 79),\n",
       " ((u'manager', 'NN'), 79),\n",
       " ((u'helping', 'VBG'), 79),\n",
       " ((u'+', 'NNP'), 79),\n",
       " ((u'answering', 'VBG'), 79),\n",
       " ((u'planning', 'VBG'), 78),\n",
       " ((u'ipm', 'JJ'), 78)]"
      ]
     },
     "execution_count": 7,
     "metadata": {},
     "output_type": "execute_result"
    }
   ],
   "source": [
    "common_nouns"
   ]
  },
  {
   "cell_type": "code",
   "execution_count": 11,
   "metadata": {
    "collapsed": false
   },
   "outputs": [
    {
     "data": {
      "text/plain": [
       "<module 'process_timecard_notes' from 'process_timecard_notes.py'>"
      ]
     },
     "execution_count": 11,
     "metadata": {},
     "output_type": "execute_result"
    }
   ],
   "source": [
    "reload(ptn)"
   ]
  },
  {
   "cell_type": "code",
   "execution_count": null,
   "metadata": {
    "collapsed": true
   },
   "outputs": [],
   "source": [
    "import nltk"
   ]
  },
  {
   "cell_type": "code",
   "execution_count": null,
   "metadata": {
    "collapsed": true
   },
   "outputs": [],
   "source": []
  }
 ],
 "metadata": {
  "kernelspec": {
   "display_name": "Python [conda root]",
   "language": "python",
   "name": "conda-root-py"
  },
  "language_info": {
   "codemirror_mode": {
    "name": "ipython",
    "version": 2
   },
   "file_extension": ".py",
   "mimetype": "text/x-python",
   "name": "python",
   "nbconvert_exporter": "python",
   "pygments_lexer": "ipython2",
   "version": "2.7.12"
  }
 },
 "nbformat": 4,
 "nbformat_minor": 2
}
