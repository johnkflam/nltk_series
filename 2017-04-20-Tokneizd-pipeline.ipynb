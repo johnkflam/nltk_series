{
 "cells": [
  {
   "cell_type": "code",
   "execution_count": 1,
   "metadata": {
    "collapsed": true
   },
   "outputs": [],
   "source": [
    "from nltk.tokenize import word_tokenize"
   ]
  },
  {
   "cell_type": "code",
   "execution_count": 2,
   "metadata": {
    "collapsed": true
   },
   "outputs": [],
   "source": [
    "from jlam.py_sql import PySql"
   ]
  },
  {
   "cell_type": "code",
   "execution_count": 3,
   "metadata": {
    "collapsed": true
   },
   "outputs": [],
   "source": [
    "import jlam.conn_constants as cnst"
   ]
  },
  {
   "cell_type": "code",
   "execution_count": null,
   "metadata": {
    "collapsed": true
   },
   "outputs": [],
   "source": [
    "cnst."
   ]
  },
  {
   "cell_type": "code",
   "execution_count": null,
   "metadata": {
    "collapsed": true
   },
   "outputs": [],
   "source": [
    "sfdc = PySql(cnst.SVR_BIODS,cnst.DB_SFDC_DATA)"
   ]
  },
  {
   "cell_type": "code",
   "execution_count": null,
   "metadata": {
    "collapsed": true
   },
   "outputs": [],
   "source": [
    "from nltk.corpus import stopwords"
   ]
  },
  {
   "cell_type": "code",
   "execution_count": 122,
   "metadata": {
    "collapsed": true
   },
   "outputs": [],
   "source": [
    "sw = set(stopwords.words('english'))"
   ]
  },
  {
   "cell_type": "code",
   "execution_count": 123,
   "metadata": {
    "collapsed": false
   },
   "outputs": [],
   "source": [
    "sql = ''' select top 1000 case_type__c,subject from dbo.[case]\n",
    "    where incident_Region__c = 'North America'\n",
    "    and case_type__c = 'User Experience - Access & Profile'\n",
    "    and subject is not null\n",
    "'''"
   ]
  },
  {
   "cell_type": "code",
   "execution_count": 124,
   "metadata": {
    "collapsed": false
   },
   "outputs": [],
   "source": [
    "df = sfdc.fetchDF(sql)"
   ]
  },
  {
   "cell_type": "code",
   "execution_count": 130,
   "metadata": {
    "collapsed": false
   },
   "outputs": [],
   "source": [
    "def tokenized_series(ser):\n",
    "    '''\n",
    "    return tokenized words from a dataframe series\n",
    "    example: tokenized_series(df['subject'])\n",
    "    '''\n",
    "    lst_of_sentences = ser.values.tolist()\n",
    "    lst_of_words = []\n",
    "    for x in lst_of_sentences:\n",
    "        lst_of_words.append(word_tokenize(x))\n",
    "    return lst_of_words\n",
    "                            \n",
    "        \n",
    "        "
   ]
  },
  {
   "cell_type": "code",
   "execution_count": 133,
   "metadata": {
    "collapsed": true
   },
   "outputs": [],
   "source": [
    "lst_of_words=tokenized_series(df['subject'])"
   ]
  },
  {
   "cell_type": "code",
   "execution_count": 150,
   "metadata": {
    "collapsed": true
   },
   "outputs": [],
   "source": [
    "def list_of_words_to_doc(lst_of_words):\n",
    "    '''\n",
    "        converting list of words to a document\n",
    "    '''\n",
    "    text = ''\n",
    "    for lst in lst_of_words:\n",
    "        for word in lst:\n",
    "            text += word + \" \"\n",
    "    return text"
   ]
  },
  {
   "cell_type": "code",
   "execution_count": 151,
   "metadata": {
    "collapsed": false
   },
   "outputs": [],
   "source": [
    "text=list_of_words_to_doc(lst_of_words)"
   ]
  },
  {
   "cell_type": "code",
   "execution_count": 152,
   "metadata": {
    "collapsed": true
   },
   "outputs": [
    {
     "data": {
      "text/plain": [
       "u\"Password Reset Link How can I administer for Gerardo Carrasco ? The \\u201c & \\u201d is not able to be used in the Password CGE PW reset REQUEST FOR SIGNATURE PIN RESET . Password Reset Link first time log in User ID Why do I have to reset my password every time I try to access Concur ? Profile Transfer - Jayme Lavoie Password reset - Timothy Ohara Password reset link pw reset Site Not Loading Correctly Unable to sign into CGE . ID and password help Account Activation - password reset link Bank account information . Forgotten Signature Pin Password reset Password reset Need to add Frequent-Traveler Programs to Concur Reset Signature User called for a password reset Signature Pin Reset Signature Pin Reset Password Reset Password Reset Signature PIN Reset - Darby Magruder Password Reset Reset Signature Pin Reset Signature Pin and Unlocking a Document Password Reset Signature PIN Reset - Lauren Attermeier USCIS Employee Moved to CBP , Needs Profile Created in CBP access in concur Non-Authorized Support Contact Calling Tier 2 line password reset needed to add an assistant and travel arranger password reset Resetting Signature PIN password reset recently transferred ORG and needs help reflecting this on auth First Time Access to CGE Unable to log in to Concur Password Reset Request - Dennis Willey Need to reset signature Organization change new user profile - postigo Brian Chaddron profile creation request for support number Wayne Rash needed a profile created in CGE unable to work on something Update PAR/Level 2 STAR Request to move Abagail Campos from the None Org Concur Travel signature pin reset password reset request - Felicia Velasquez Traveler requested a password reset link to log in to CGE Traveler requested a Signature PIN Reset password request password Unable to approve voucher , Security breach error received . RE : UPDATED - Concur Government Edition , CGE Approver is receiving duplicate email for every email sent . Setting up New User in CGE System password reset Unathorized Tier 2 Caller Unable to find user in CGE REQUEST ADD TRAVELER ( TIMMONS ) TO REG5 SECURITY GROUP Missing profile Resetting Signature PIN Password Reset Request - Waldemar Ortiz fastlane profile -chen Unable to Arrange Travel Needed to have her signature reset password reset profile - tewksbury full access for james douglass Unable to log in to Concur disconnected User called for a PIN reset Why ca n't I find traveler Mario A Rogers ? First Time Access to CGE Call Dropped FW : Request to Transfer Profile FW : CGE Email Update Add new travelers Alexis Wales needed a password reset link Request to create profile in CGE verification where tyeshia roberson Wondering what log In ID is Arranger requested verification if type 5 panelists are in Concur TEST TWO for Tier1 verification of profile for koh Wrong Number Wanting specific Representative RE : CGE Error User needs password reset password reset Move Traveler to New Org Pin Reset How to do edit locks Routing Chain Approvals for R7 Reporting and how to run reports . RE : Paul Evenson Chat ended by user Group access Group access CHANGING PROFILE FOR CORRECT ROUTING Pin Reset Unable to load passport into profile Password Reset FW : Concur Routing Update Needed to have his password reset TAVS Error Message on Confirmation Tab -- Your Agency Requires that fees for using CGE be billed ... ... ... There is Currently No Valid Card in Your TAVS Profile ... ... . profile information User never responded in the chat . FW : Customer Order for FY15 Vibrant Exercise password reset Case Status Michael A. Scott not an approver CGE Web Address Signature Reset adding credit card Can not find manager in the system to administer travel for password reset My travel information is going to the wrong person Password Reset Unable to locate user in CGE Password Reset new profile Pin Reset Need to reset signature Reset Signature User is asking about how he can input his direct deposit information in the CGE system . password reset cardholder code error Unable to log in to Concur Signature Reset run a report Check credit card information I went to set up a profile and it came up with login ID not avail . No response Requesting a password reset No response Request to create profile in CGE Unable to select a document to approve it . Password Re-set Traveler , a first time user of CGE , is having a difficult time logging into CGE Traveler Reported that the Organization showing in his profile is not Correcr Microsoft Dynamics Users Leads DESIRRE OCTAVE - Password Reset Password Reset Link Request Signature Reset REQUEST FOR SIGNATURE PIN Password Reset Reset Signature Pin Credit card limit . Password reset Password Reset Requesting a password reset Samantha Sydnor Needed her signature reset employee Peggy Demeter Hang up Create Profile for Invitational Traveler Needed to have her signature reset Signature Pin Reset CGE Signature Error Chat immediately Disconnected by Visitor Reset Signature Pin Request to reset Signature Pin Chat Session had technical problems Password Reset Request Reset Signature Request to create Profile in CGE Reset Signature Remove Edit Locks webobject file error Request to reset Signature Pin Password Reset Profile creation for Keith Dupont Update name in profile getting a signal sign on request has failed message Visitor never said anything in the chat . Visitor never said anything in the chat . RESET SIGNATURE PIN REQUEST Request to create Profile in CGE Signature Pin Reset Password reset Log in Failure Traveler gets the error message Unable to save in the reservation area when saving the profile needs password for initial login Can not Find traveler Approver on the Routing List Needed to have his signature reset How to search for documents approved . Travel preparers can not search for specific travelers Password Reset Request Password reset link sent Signature PIN reset Unable to save required information in Profile . Missing Tabs and Profile Info in Traveler 's CGE Account Signature PIN reset needs password reset needs password reset Username Request needs password reset Password Reset Check if traveler had profile in CGE/itrak password reset Changing Organizations XML Profile Sync ID Different from Employee ID Login Errors in CGE System down - unable to access CGE Resetting Signature PIN CGE Does n't Load can not get into Concur Can not Access CGE System down CGE : Site Down GSA - CGE - Marvin Somers - Users can not login to CGE CGE : Site Down Unable to log in to CGE Unable to access CGE unable to access site FEMA misdirected Reset signature PIN Unable to log in to Concur Unable to find traveler in You Are Administering Travel For search who is in another Org Unable to access CGE Adding a Travel Arranger Home Page Is showing a Duplicate Trip had a question as she states her profile is n't saving as her DOB still says required User needs PIN reset First Time Access to CGE Password Reset REQUEST TO RESET SIGNATURE PIN Password Reset new profile ETR form Unable to create auth new profile Password Reset Password Reset Request needs password reset need to update e-mail address CGE Login Help Traveler Is Not Populating In Searches FW : Transfer_M . Johnson FW : Approvals tab FW : Transfer_M . Johnson Traveler was unable to login to CGE RE : Transfer_M . Johnson PROBLEM WITH LOGIN requesting help updating org due to recent transfer needs password reset Prefer to delete a profile over de-activating it new user profile - jacoby Barry Hogues needed a profile created in CGE Unable to log in to Concur Michale Washington Needed a Profile Created Call Rang Through Noone On Other Line URL to login Jose Hernandez needed a profile created Reset Signature password reset User called for a PIN reset ERROR : `` Concur Travel found invalid data in your travel profile '' Signature PIN reset Password Reset Link Reset Password User would like the contact number for Tier 1 support . Travel Preparer Could not Pull Up a Traveler 's Profile birthday incorrect in profile Approver in routing list receiving multiple emails for one return action Password Reset- Daniel Dodd Password Reset Request needs password reset REQUEST FOR SIGNATURE PIN Password Reset Password Reset Requested by Carlos Fuentes OFO Request to help Traveler with Resetting his Password . Never received Welcome Email . needs password reset password reset Joi . Aziaya User profile needs org added Requesting a Signature Pin Reset profile locating Chat ended REQUEST PASSWORD RESET LINK Chat Ended Call Dropped Password Reset Wanted to know why he could not use the password he created to enter CGE . Password Reset Need to change user profile Reset Pin did not work Call disconnected . password reset Traveler Requested a Password Reset Link so that she can reset her password password reset RE : Line of Accounting Loaded CGE Login issue signature PIN reset Reset Signature PIN - Kevin Roscoe No account non-ASC contacted Tier 2 Request to create profile in CGE Not Able to Log In To CGE Requesting a password reset New User to CGE . Never Signed in Before . Requesting Password Reset needs to reset signature Set Signature Pin Visitor never said anything in the chat . Name correction needed Needed assistance with resetting his password . REQUEST FOR SIGNATURE PIN needs password reset Requesting a password reset Password reset link sent Request to new user profile - spence Password Reset Request Status check on Tier 2 case # 06198502 Password reset link sent needs password reset Password reset link sent Concur routing Unable to Locate User in CGE Transfer the following to OSPIE Concur Travel System Password Reset Request Move Traveler to New Org No Response Inquiry on profile verification/creation in Concur password reset request - Mary Thillman Reassign to MHT please help re-instating my account needs password reset Request to reset Signature Pin unable to login to website Reset Signature Pin for Barry Lefer password reset missing permission Unable to log in to CGE Password Reset Password Reset Update profile missing ORG FATA can not find Remove Edit-Lock for traveler Carlos Pereyra Password Reset Update Credit Card Expiration Date User no longer has a `` Search '' button Signature PIN Reset - Alan McDougal CGE Support Emails Not Received Unable to access profiles password reset First time user assistance No Answer hang up/disconnected Remove Edit-Lock for traveler Lisa Yoakum panelist profile SF NA4 to NA26 Movement Test create new account Group profile access Site appears to be down User 's TSA precheck number not on their boarding pass FW : Request Change in Airport Code Routing list for ORG GUSDARD07M520000 has no signatures Case Status Update Chat Request User needs PIN reset CGE PW reset signature pin reset password reset Request to move profile to CISEIIS Transfer profile signature pin reset Could not Click a Duplicate Name Requesting a password reset Traveler profile showing incorrectly in OMEGAs system Can you please help me with a profile ? Needs a password reset User is requesting assistance in resetting his PIN . Unable to Login No account ; unable to send password reset email Links not working when administering traveler profile Password Reset password reset you could not get access int CGE Concur profile Needed to have his password reset password reset Requesting a Signature Pin Reset needs password reset requesting assistance changing org for Brian D Morris Password to login Password reset I updated the employee ID in a profile how do I update the authorization Wrong e-mail address password reset Password reset link sent Request to see if traveler is in iTRAK Password Reset Request Chat Request User needs password reset new user profile - chen Calling for Tier 1 support when not supported \\u2014 Jeaneane Shelton Add profile info Password Reset- Monique Bridges Password Reset Password Reset Invitational traveler needs Signature PIN reset request for assistance with password reset Add traveler to group password reset change ORG Unable to change the name on traveler profile . unable to locate profile No response James hamilton unable to access profile new user profile - jacoby Access to CGE CBP Site new temporary pin new user profile - coscia Password Reset Request Incorrect Email Address non-ASC contacted Tier 2 Password Reset Request - Beatrice Awokoya updating profile with date of birth for coscia profile Password Reset Approvals- error you do not have permission to view this page Signature PIN reset Password Reset Request - Steven Gagne new user profile - freeman Pseudo Code Mismatch REQUEST PASSWORD RESET LINK Is this profile complete ? Password reset link Group profile access Reset Signature Unable to access CGE password reset Reset Signature Reset Signature Pin for Ansley Browns Request to move profile to EHRDUE Password Reset Link Request needs password reset Unable to update user 's profile . Requesting access to CGE , Initial access Signature PIN Reset - Cedric Nitchener password reset CGE Access needs to reset signature Reset Signature Pin Not able to login Change Org request TAVS Error Message on Confirmation Tab -- Your Agency Requires that fees for using CGE be billed ... ... ... There is Currently No Valid Card in Your TAVS Profile ... ... . Line of Accounting Loaded Signature PIN Reset - Lee Olson Password Reset Request - Angela Foster information in iTrak for profile new user profiles for finocchio & iocozzia Reset Signature Unable to log in to Concur password reset CGE PW reset Needed to have her password reset FEMA misdirected REQUEST PASSWORD RESET LINK adding a credit card No Chat Concur - Employee Not Found - Erin Goss Approval rights Signature Reset Unable to see newly created profiles Unable to add user to CGE remove profile from ENG IIP Travel accounting string How to add a user to a Routing List How to add a user to a Routing List password reset request - Kendra Riley Reset Signature needs to reset signature Credit card default expense categories Password Reset Request User wants to confirm that their Govt charge card is correct on their profile Unable to locate profiles CGE PW reset hang up/disconnected Need GGE Profiles User wants to ensure that their profile is complete Marcia Ganir can not sign into Concur Remove Edit Locks Need to create invitational travelers Adding Alternate Preparer Account User needs password reset David Chawaga Hang up Password Reset Request - Deep Chopra Request for user ID and password . When creating a support case using the concur support system , screens freeze and get error page ca n't be displayed . Password reset Reset signature PIN . Password Re-set No response Account is locked . Need to deactivate user profile for Casey Guetta Unable to log in to Concur Password Reset password reset Password reset Unable to access CGE Travel Documents Traveler not able to receive emails to reset password Password reset link sent Add Support Tab for CGE user Group was deleted Checking Status of Case User called for a password reset Wanted to know why she could not access the support portal to log a ticket . Password Reset Request Password Reset Request Wanted to know why she could not access the support portal to log a ticket . Request to update profile with appropriate permissions No Response Password Reset Signature Pin Reset Password Reset Link requested Locate a user Organizational Change Signature Pin Reset Password requires reset at each logon Signature Pin Reset fastlane profile - zhan First Time Access to CGE fastlane profile - zhan Signature PIN Reset - Jamie Cook Requesting a password reset Password Reset Request - Daniel Sheeha Need assistance replacing a signature in routing list UserID / PW Reset signature REQUEST PASSWORD RESET LINK Chat Request Routing List creation request - Org DFEMARC issues accessing concur ? An error is received when a user tries to approve a document . The Visitor and I never spoke as the chat ended shortly after I opened it . Can not find traveler in You are administrating travel for search Error preventing login to Concur Password Reset Request Unable to log in \\u2014 does not know password ; can not access government email Resetting Signature PIN for Traveler Trepte/Charles Signature Reset why ca n't i log into concur ? Caller hung up Password reset link sent Password reset link sent Signature PIN reset Signature PIN reset Needed to have his signature reset Password reset link sent Reset Signature Pin FW : Concur Approval Chain Change Password reset REQUEST PASSWORD RESET LINK Password reset link sent needs password reset Add credit card Requesting a Signature Pin Reset needs password reset RE : Inactive Account Reminder Reset Signature Pin Password reset FEMA AGENT Delete profile Login Name Change Request User needs PIN reset changing a travelers profile ORG Creating a User 's Profile Assistance deactivating duplicate profile in Concur RE : How Come ... Unable to log in to CGE new user profiles - dagley & ewald panelist profiles need to reset password Travel does not a member of the proper group Locked Out Pin Reset new user profile - rosenberg new temporary pin can you help me with and invitational travel profile ? Not receiving emails to the DHS email added to profile Travelers name incorrect in Concur system Password Reset Password Reset Request NOT ABLE TO ACCESS CGE accounting from ORG User wanted password reset User needs password reset Update profile Adtrav unable to locate profile Password reset for Sean Forney Updating profile information for travel . Disaster Accounting String to Be Added- DR1950 Request for username and password Need to log in to Concur for the first time Password reset link sent Password reset link sent Password reset link sent Password reset Password reset link sent PASSWORD RESET LINK SENT Requesting a Password Reset Link needs to reset signature Signature Reset Password reset request - initial logon access new profile for Karl Larson Logging in to CGE Creating a Signature PIN CGE PW reset new profile create profile Reset to reset Signature Pin . Resetting Signature PIN Password Reset Link Employee ID Wrong Unable to login . Profile Transfer - BOI Need to enter IBA unable to find user in the system Unable to access CGE and request Signature pin reset Password reset request - initial logon access Password Reset needs a password reset User called for a PIN reset We need to move a user from one division of USDA to another ( OIG ) how do we move the profile . Password reset link sent New profile for PAL Unable to log in to Concur Can not find traveler Password Reset No email notification for documents requiring action Password reset *Wrong Number* Remedy 1710628 Unable to reset password using link User needs password reset Traveler requested a password reset link to log in to CGE Password Reset Request Signature Pin Reset User has forgotten her password and locked her Account . Requesting password reset . User called for a password reset Password Reset Can not access traveler 's profile in `` You are administering travel for : '' for traveler Christopher Shelton Wondering how to tell who updated Juan 's Credit Card Information Can not Search for Traveler new user profile - keiser Request to reset Signature Pin Password Reset temporary pin for new profile needs password reset Not ble to log into Concur Remotely Deland Peterson called the help desk to ask for a password reset . Unable to locate a travel when using `` You are administering travel for ... '' Signature Pin Reset CGE PW reset Visitor initiated a chat but did not respond and ended the chat Signature Reset Request to create profile in CISE/IIS needs to reset signature User called the help desk to ask for assistance in having the `` Reporting '' tab added to her profile . Reset Password FW : SR-000000330967 Need to set up signature PIN Emails are failing Request for a password to login . Reset Signature Pin Need To Reset Password signature pin reset Password Reset Request Visitor closed the chat before saying anything . Create new profile Reset Signature Pin needs password reset needs help signing document Can not view travelers ' profiles Password reset RE : Disaster Accounting String to Be Added- DR1950 RE : Disaster Accounting String to Be Added- DR1950 RE : Disaster Accounting String to Be Added- DR1950 Needs to create a profile Delete signatures from routing list Edit credit card on profile Profile for Stephanie Mitts Requested Assistance in Logging into CGE System Login Assistance User needs password reset log on credentials/password request Unable to login . User disconnected while I was assessing their issue password reset why ca n't i log into concur ? Abandoned Chat - Andrew Rikarts Request to reset password Password Reset needs to reset her signature PIN Unable to Search for Traveler needs to reset signature Password Reset Password Reset Access to CGE - Refer to NISC need assistance logging in to Concur Password Reset Password Reset Request - Adam Q. Hoffman birthdate I ca n't find people in my Org to arrange travel for ? Error Message Deactive user profile Account locked Need to log in to Concur for the first time new user profile - patton password reset Travel Preparer Requested that the Signature PIN of Traveler Jerry McKee be Reset Profile transfer request password reset User called for a password reset Need to add Frequent-Traveler Programs to Concur Unable to Globally replace signatures reset password Wrong Number Move Traveler to New Org User wanted to know if it is possible to access the system at home on his personal computer . Reset Signature Password Reset Request Password Reset Password Reset wrong FEMA Vendor ID Password Reset Password Reset Request Modify VA Stable to Reflect UI Version 4.0 Move profile Traveler requested Profile in CGE Not able to find traveler under `` I am administrating travel for '' Not able to find traveler under `` I am administrating travel for '' Password Reset Link Call Disconnected USDA login Issue Signature Pin Reset FW : field reassignment Create Profile in CGE Reset signature PIN . Password reset link needs help resetting signature Adding a User to CGE Approval Layout Change Password Reset Request - Bret Dietrich Password Reset Request - Christopher Butler Password Reset Request - John Horodysky Signature PIN reset line of accounting Abandoned Chat - Patrick Ott needs a password reset User has forgotten his password . Requesting password reset . Arranger was unable to find travelers User needs password reset change ORG FEMA misdirected signature pin reset User contacted the Help desk to ask for his log in and password . Requesting a password reset forgot my signature pin Password Re-set Issue logging in account locked Password Reset Needed assistance with getting into CGE . needs to reset her PIN Does new traveler have CGE access ? Reset Signature Request to reset Signature Pin March CBA file CONCUR web site URL Request for access to Concur website for FEMA VIII travel Profile saving assistance Login Assistance Gregory Gatjanis locked out of Concur . Password Reset Link Request First Time Access to CGE Needed his password reset Delete signature from routing list . Traveler Ca n't Access Site update organization in traveler 's profile . giving travel arranger Password Reset Password reset link sent password reset request - Walter Cobar Request to activate UI Version 4 in Test Preview . Request to activate UI Version 4 in Test Preview . Reset Signature PIN - Theodore Hadjimichael Password Reset Password Reset Password Reset General questions about profile access Needed to have her password reset CGE PW reset Unable to login , access denied error message . Unable to log in to Concur Change in Certification Routing - REQUEST Answered the phone to no one on the line Password reset New Employee of DHS . Has an Upcoming Trip she Needs to Book in CGE but does n't not have a DHS-HQ CGE Profile yet password reset Needed to have his password reset needs to reset signature password reset request - Cristine Tindall Password reset No Response needs to reset signature RE : Need GGE Profiles RE : Need GGE Profiles No Response Needed to have his signature reset No response on chat Reset Password requesting link to reset password Password Reset Request Password reset link needs to reset signature Profile for Denise Bland needs to be re-instated Password Reset Request Password reset link password reset request - Luis Colondiaz Password Reset Request FEMA AGENT Reset Password Signature Reset No Response Requesting a password reset Signature Pin Reset Password Reset Link why cant I administer travel for these people ? FW : How Come ... Password reset Inquired about profile for approver David Gasho Remove Edit Locks Password Reset Request how do you set up a traveler to be able to sign their vouchers FW : CONCUR - Account Transfer Request - Coon Add and delete traveler from I am assisting travel for Call disconnected Unable to login around 2 pm Hawaii time Wrong Number Password reset Not able to log into the Concur website Transfers pw reset ROC routing list Needed to have her password reset but did not have access to her government email User needs password reset reset password ANTHONY KORDICH - Password Reset User wanted to confirm that they needed to call NFC Travel for error Abandoned Chat - Lisa Burgoyne Can not access org to copy an accounting label User needs password reset Password Reset Request Reset Signature RE : Missing Traveler Group - Disaster Reserve password reset signature PIN User hung up Request to have CGE profile setup User unable to log in to CGE Unable to access CGE Password Reset Link how do I access Concur ? Melissa Rucker and Thomas Killingsworth can not log into CGE using link pass Signature Reset Caller contacted the help desk to ask for assistance in pulling up users in the `` User Admin '' Section in CGE . Reset Signature PIN - John Thompson Reset Signature User needs to be removed from routing list Unable to view CGE in Internet Explorer Update org Signature Reset Abandoned Chat - Elizabeth Gifford Called to have signature reset Password Reset traveler Curington , Angela D How to get a user to see more org 's User is unable to locate correct routing list in their profile Name change password reset Password reset request - initial logon access Password reset request - initial logon access Password Reset Link Request to reset Signature Pin CGE credentials needed hang up Request to reset Signature Pin Unauthorized Caller new user profiles - letteri & scott location of profile updating of email address for scott Can not find traveler Adding IBA to Profile Request to updated banking information for travel voucher payout . trying to reset password Reset signature PIN . Password Re-set needs to reset his PIN Password reset Traveler wants to reset his Signature PIN Travel Preparer is Checking to see if new employee Michael Benedict is already in the CGE System accessing mark scott profile Password Reset Request - Michael Benedict Profile for Deborah Estrin CGE Support Access Site URL for NASA employees RE : Transfer_M . Johnson User needs password reset Two users unable to login to CGE Need to reset signature Case 06213079 Password reset link password reset no one on the line User has forgotten his password . Requesting password reset . Data Mismatch on Document Civilian/Military Needs to update her profile Request to reset signature pin . CTE Login name already in use when trying to create profile Hang up new user profile - majumdar CGE PW reset Missing Par level 2 Password Reset unable to pull CGE up on his PC User called the wrong number Unable to log in to CGE Trying to create profile for Irma Burden receiving error `` EID currently in use User Name and Password password reset Request to reset Signature Pin Password Reset Request - DANIEL HARDING GSA - CGE - Christine Courter - Request to remove `` Creating a pre-trip voucher '' instructions from the CGE training portal How to get CGE access Password reset request for Zendi Velasquez . Request to reset Signature Pin Request for profile in CGE Edit Credit Card Information Traci Knight amend profile Traci Knight profile needing updates User needs PIN reset User needs password reset Password reset FATA wants to take FSTA role from a user . Unable to Search for Traveler Reset Signature PIN - Theadore Mason Site down User needs password reset Password Reset . Password Reset Request Password Reset Request Password Reset Bruce Belt left FEMA to join NPPD-CSC Requesting a Password Reset Link be sent to Travel Preparer Requesting a Password Reset Link Login Assistance User needs password reset Needed password reset Email notifications going to wrong person Re : Missing Traveler Group - Disaster Reserve Troubles with Itinerary Location script within user 's browser Needed to have his signature reset Password Reset Request Password reset link sent Has an error in profile to select an IBA . Chat Request Lock out new user profile - keahey unable to login to website Needed to have her password reset Point of Contact at JP Morgan and Chase Bank unable to login to website adtrav not able to move over profile Password Reset User is not able to access CGE account Need to log in to Concur for the first time Saving Updated IBA to a User Profile Needed to have his signature reset Need to log in to Concur for the first time FW : Incorrect Approval Chain Need to log in to Concur for the first time CGE System Access - Password reset request User needs PIN reset \""
      ]
     },
     "execution_count": 152,
     "metadata": {},
     "output_type": "execute_result"
    }
   ],
   "source": [
    "text"
   ]
  },
  {
   "cell_type": "code",
   "execution_count": null,
   "metadata": {
    "collapsed": true
   },
   "outputs": [],
   "source": [
    "genesis=nltk.corpus.genesis.words('english-web.txt')"
   ]
  },
  {
   "cell_type": "code",
   "execution_count": null,
   "metadata": {
    "collapsed": true
   },
   "outputs": [],
   "source": [
    "genesis"
   ]
  },
  {
   "cell_type": "code",
   "execution_count": 132,
   "metadata": {
    "collapsed": true
   },
   "outputs": [],
   "source": [
    "from nltk.collocations import BigramCollocationFinder"
   ]
  },
  {
   "cell_type": "code",
   "execution_count": 157,
   "metadata": {
    "collapsed": false
   },
   "outputs": [],
   "source": [
    "\n",
    "bcf = BigramCollocationFinder.from_words(text)"
   ]
  },
  {
   "cell_type": "code",
   "execution_count": 158,
   "metadata": {
    "collapsed": false
   },
   "outputs": [
    {
     "data": {
      "text/plain": [
       "[(u'i', u'n'), (u'w', u'o'), (u'q', u'u'), (u' ', u'P')]"
      ]
     },
     "execution_count": 158,
     "metadata": {},
     "output_type": "execute_result"
    }
   ],
   "source": [
    "bcf.nbest(BigramAssocMeasures.likelihood_ratio,4)"
   ]
  },
  {
   "cell_type": "code",
   "execution_count": 161,
   "metadata": {
    "collapsed": false
   },
   "outputs": [
    {
     "data": {
      "text/plain": [
       "[]"
      ]
     },
     "execution_count": 161,
     "metadata": {},
     "output_type": "execute_result"
    }
   ],
   "source": [
    "from nltk.metrics import BigramAssocMeasures\n",
    "filter_stops = lambda w: len(w) <5\n",
    "bcf.apply_word_filter(filter_stops)\n",
    "bcf.nbest"
   ]
  },
  {
   "cell_type": "code",
   "execution_count": 41,
   "metadata": {
    "collapsed": false
   },
   "outputs": [
    {
     "data": {
      "text/plain": [
       "0    needs password reset\n",
       "Name: subject, dtype: object"
      ]
     },
     "execution_count": 41,
     "metadata": {},
     "output_type": "execute_result"
    }
   ],
   "source": [
    "df[:1]['subject']"
   ]
  },
  {
   "cell_type": "code",
   "execution_count": null,
   "metadata": {
    "collapsed": true
   },
   "outputs": [],
   "source": []
  },
  {
   "cell_type": "code",
   "execution_count": 79,
   "metadata": {
    "collapsed": false
   },
   "outputs": [],
   "source": [
    "lst = df['subject'].values.tolist()"
   ]
  },
  {
   "cell_type": "code",
   "execution_count": 43,
   "metadata": {
    "collapsed": false
   },
   "outputs": [
    {
     "name": "stdout",
     "output_type": "stream",
     "text": [
      "[u'needs', u'password', u'reset']\n",
      "[u'needs', u'password', u'reset']\n",
      "[u'Case', u'#', u'06510356']\n",
      "[u'feed', u'amex', u'receipts', u'into', u'Concur']\n",
      "[u'WN-WNDC-WN', u'Booking', u'Error', u'but', u'Booked', u'with', u'Airline']\n",
      "[u'Profile', u'-', u'Traveler', u'Name', u'Issue']\n",
      "[u'Has', u'a', u'question', u'on', u'traveler', u'Mark', u'Qualter']\n",
      "[u'Expense', u'Report', u'for', u'Fae', u'Druiz']\n",
      "[u'Adding', u'personal', u'credit', u'card']\n",
      "[u'Beacon', u'Roofing/Stacy', u'Cotton/admin', u'booking', u'for', u'Sylvie', u'Santoro', u'but', u'trip', u'did', u'not', u'appear', u'in', u'either', u'trip', u'library']\n"
     ]
    }
   ],
   "source": [
    "for x in lst:\n",
    "    print word_tokenize(x)"
   ]
  },
  {
   "cell_type": "code",
   "execution_count": 44,
   "metadata": {
    "collapsed": true
   },
   "outputs": [],
   "source": [
    "def convert_to_list(df,columnName):\n",
    "    ''' convert a column in dataframe to list'''\n",
    "    return df[columnName].values.tolist()"
   ]
  },
  {
   "cell_type": "code",
   "execution_count": 45,
   "metadata": {
    "collapsed": true
   },
   "outputs": [],
   "source": [
    "lst2=convert_to_list(df,'case_type__c')"
   ]
  },
  {
   "cell_type": "code",
   "execution_count": 46,
   "metadata": {
    "collapsed": false
   },
   "outputs": [
    {
     "data": {
      "text/plain": [
       "[u'User Experience - Access & Profile',\n",
       " u'User Experience - Access & Profile',\n",
       " u'User Experience - Expense',\n",
       " u'Administration - Expense',\n",
       " u'User Experience - Travel',\n",
       " u'User Experience - Travel',\n",
       " u'User Experience - Authorization',\n",
       " u'Administration - Expense',\n",
       " u'User Experience - Expense',\n",
       " u'User Experience - Travel']"
      ]
     },
     "execution_count": 46,
     "metadata": {},
     "output_type": "execute_result"
    }
   ],
   "source": [
    "lst2"
   ]
  },
  {
   "cell_type": "code",
   "execution_count": 47,
   "metadata": {
    "collapsed": true
   },
   "outputs": [],
   "source": [
    "def filter_stop_words(tokenized,stopwords):\n",
    "    ''' remove stopwords from tokenized'''\n",
    "    return [x for x in tokenized if x not in stopwords]"
   ]
  },
  {
   "cell_type": "code",
   "execution_count": 48,
   "metadata": {
    "collapsed": false
   },
   "outputs": [
    {
     "data": {
      "text/plain": [
       "[u'needs password reset',\n",
       " u'needs password reset',\n",
       " u'Case #06510356',\n",
       " u'feed amex receipts into Concur',\n",
       " u'WN-WNDC-WN Booking Error but Booked with Airline',\n",
       " u'Profile - Traveler Name Issue',\n",
       " u'Has a question on traveler Mark Qualter',\n",
       " u'Expense Report for Fae Druiz',\n",
       " u'Adding personal credit card',\n",
       " u'Beacon Roofing/Stacy Cotton/admin booking for Sylvie Santoro but trip did not appear in either trip library']"
      ]
     },
     "execution_count": 48,
     "metadata": {},
     "output_type": "execute_result"
    }
   ],
   "source": [
    "lst"
   ]
  },
  {
   "cell_type": "code",
   "execution_count": 49,
   "metadata": {
    "collapsed": false
   },
   "outputs": [
    {
     "name": "stdout",
     "output_type": "stream",
     "text": [
      "[u'needs', u'password', u'reset']\n",
      "[u'needs', u'password', u'reset']\n",
      "[u'Case', u'#', u'06510356']\n",
      "[u'feed', u'amex', u'receipts', u'Concur']\n",
      "[u'WN-WNDC-WN', u'Booking', u'Error', u'Booked', u'Airline']\n",
      "[u'Profile', u'-', u'Traveler', u'Name', u'Issue']\n",
      "[u'Has', u'question', u'traveler', u'Mark', u'Qualter']\n",
      "[u'Expense', u'Report', u'Fae', u'Druiz']\n",
      "[u'Adding', u'personal', u'credit', u'card']\n",
      "[u'Beacon', u'Roofing/Stacy', u'Cotton/admin', u'booking', u'Sylvie', u'Santoro', u'trip', u'appear', u'either', u'trip', u'library']\n"
     ]
    }
   ],
   "source": [
    "for x in lst:\n",
    "    tokenized = word_tokenize(x)\n",
    "    filtered_words = filter_stop_words(tokenized,sw)\n",
    "    print filtered_words"
   ]
  },
  {
   "cell_type": "code",
   "execution_count": 50,
   "metadata": {
    "collapsed": true
   },
   "outputs": [],
   "source": [
    "import nltk"
   ]
  },
  {
   "cell_type": "code",
   "execution_count": 54,
   "metadata": {
    "collapsed": true
   },
   "outputs": [],
   "source": [
    "def process_words(listOfWords,filterStopWords=True):\n",
    "    tagged_list = []\n",
    "    for w in listOfWords:\n",
    "        tokenized = word_tokenize(w)\n",
    "        if filterStopWords:\n",
    "            filtered_words = filter_stop_words(tokenized,sw)\n",
    "            tagged_words = nltk.pos_tag(filtered_words)\n",
    "        else:\n",
    "            tagged_words = nltk.pos_tag(tokenized)\n",
    "        tagged_list.append(tagged_words)\n",
    "    return tagged_list"
   ]
  },
  {
   "cell_type": "code",
   "execution_count": 80,
   "metadata": {
    "collapsed": false
   },
   "outputs": [],
   "source": [
    "tagged = process_words(lst,False)"
   ]
  },
  {
   "cell_type": "code",
   "execution_count": 81,
   "metadata": {
    "collapsed": false
   },
   "outputs": [
    {
     "data": {
      "text/plain": [
       "[[(u'I', 'PRP'), (u'needs', 'VBP'), (u'password', 'JJ'), (u'reset', 'NN')],\n",
       " [(u'I', 'PRP'), (u'needs', 'VBP'), (u'password', 'JJ'), (u'reset', 'NN')],\n",
       " [(u'I', 'PRP'), (u'Case', 'NNP'), (u'#', '#'), (u'06510356', 'CD')],\n",
       " [(u'I', 'PRP'),\n",
       "  (u'feed', 'VBP'),\n",
       "  (u'amex', 'JJ'),\n",
       "  (u'receipts', 'NNS'),\n",
       "  (u'into', 'IN'),\n",
       "  (u'Concur', 'NNP')],\n",
       " [(u'I', 'PRP'),\n",
       "  (u'WN-WNDC-WN', 'VBP'),\n",
       "  (u'Booking', 'VBG'),\n",
       "  (u'Error', 'NNP'),\n",
       "  (u'but', 'CC'),\n",
       "  (u'Booked', 'NNP'),\n",
       "  (u'with', 'IN'),\n",
       "  (u'Airline', 'NNP')],\n",
       " [(u'I', 'PRP'),\n",
       "  (u'Profile', 'NNP'),\n",
       "  (u'-', ':'),\n",
       "  (u'Traveler', 'NN'),\n",
       "  (u'Name', 'NNP'),\n",
       "  (u'Issue', 'NNP')],\n",
       " [(u'I', 'PRP'),\n",
       "  (u'Has', 'VBP'),\n",
       "  (u'a', 'DT'),\n",
       "  (u'question', 'NN'),\n",
       "  (u'on', 'IN'),\n",
       "  (u'traveler', 'NN'),\n",
       "  (u'Mark', 'NNP'),\n",
       "  (u'Qualter', 'NNP')],\n",
       " [(u'I', 'PRP'),\n",
       "  (u'Expense', 'VBP'),\n",
       "  (u'Report', 'NNP'),\n",
       "  (u'for', 'IN'),\n",
       "  (u'Fae', 'NNP'),\n",
       "  (u'Druiz', 'NNP')],\n",
       " [(u'I', 'PRP'),\n",
       "  (u'Adding', 'VBP'),\n",
       "  (u'personal', 'JJ'),\n",
       "  (u'credit', 'NN'),\n",
       "  (u'card', 'NN')],\n",
       " [(u'I', 'PRP'),\n",
       "  (u'Beacon', 'VBP'),\n",
       "  (u'Roofing/Stacy', 'NNP'),\n",
       "  (u'Cotton/admin', 'NNP'),\n",
       "  (u'booking', 'VBG'),\n",
       "  (u'for', 'IN'),\n",
       "  (u'Sylvie', 'NNP'),\n",
       "  (u'Santoro', 'NNP'),\n",
       "  (u'but', 'CC'),\n",
       "  (u'trip', 'NN'),\n",
       "  (u'did', 'VBD'),\n",
       "  (u'not', 'RB'),\n",
       "  (u'appear', 'VB'),\n",
       "  (u'in', 'IN'),\n",
       "  (u'either', 'DT'),\n",
       "  (u'trip', 'NN'),\n",
       "  (u'library', 'NN')]]"
      ]
     },
     "execution_count": 81,
     "metadata": {},
     "output_type": "execute_result"
    }
   ],
   "source": [
    "tagged"
   ]
  },
  {
   "cell_type": "code",
   "execution_count": 61,
   "metadata": {
    "collapsed": true
   },
   "outputs": [],
   "source": [
    "s = ['I need to reset my password']"
   ]
  },
  {
   "cell_type": "code",
   "execution_count": 62,
   "metadata": {
    "collapsed": false
   },
   "outputs": [
    {
     "data": {
      "text/plain": [
       "[[('I', 'PRP'), ('need', 'VBP'), ('reset', 'VB'), ('password', 'NN')]]"
      ]
     },
     "execution_count": 62,
     "metadata": {},
     "output_type": "execute_result"
    }
   ],
   "source": [
    "process_words(s)"
   ]
  },
  {
   "cell_type": "code",
   "execution_count": 66,
   "metadata": {
    "collapsed": false
   },
   "outputs": [
    {
     "data": {
      "text/plain": [
       "[[('she', 'PRP'), ('needs', 'VBZ'), ('password', 'JJ'), ('reset', 'NN')]]"
      ]
     },
     "execution_count": 66,
     "metadata": {},
     "output_type": "execute_result"
    }
   ],
   "source": [
    "s2 = ['she needs password reset']\n",
    "process_words(s2,False)"
   ]
  },
  {
   "cell_type": "code",
   "execution_count": 67,
   "metadata": {
    "collapsed": false
   },
   "outputs": [
    {
     "data": {
      "text/plain": [
       "[[('needs', 'NNS'), ('password', 'NN'), ('reset', 'NN')]]"
      ]
     },
     "execution_count": 67,
     "metadata": {},
     "output_type": "execute_result"
    }
   ],
   "source": [
    "process_words(s2)"
   ]
  },
  {
   "cell_type": "code",
   "execution_count": 72,
   "metadata": {
    "collapsed": true
   },
   "outputs": [],
   "source": [
    "s3 = ['I need password to be reset']"
   ]
  },
  {
   "cell_type": "code",
   "execution_count": 73,
   "metadata": {
    "collapsed": false
   },
   "outputs": [
    {
     "data": {
      "text/plain": [
       "[[('I', 'PRP'),\n",
       "  ('need', 'VBP'),\n",
       "  ('password', 'NN'),\n",
       "  ('to', 'TO'),\n",
       "  ('be', 'VB'),\n",
       "  ('reset', 'VB')]]"
      ]
     },
     "execution_count": 73,
     "metadata": {},
     "output_type": "execute_result"
    }
   ],
   "source": [
    "process_words(s3,False)"
   ]
  },
  {
   "cell_type": "code",
   "execution_count": 74,
   "metadata": {
    "collapsed": false
   },
   "outputs": [
    {
     "data": {
      "text/plain": [
       "[[('I', 'PRP'),\n",
       "  ('need', 'VBP'),\n",
       "  ('to', 'TO'),\n",
       "  ('reset', 'VB'),\n",
       "  ('my', 'PRP$'),\n",
       "  ('password', 'NN')]]"
      ]
     },
     "execution_count": 74,
     "metadata": {},
     "output_type": "execute_result"
    }
   ],
   "source": [
    "s = ['I need to reset my password']\n",
    "process_words(s,False)"
   ]
  },
  {
   "cell_type": "code",
   "execution_count": 75,
   "metadata": {
    "collapsed": false
   },
   "outputs": [
    {
     "data": {
      "text/plain": [
       "10"
      ]
     },
     "execution_count": 75,
     "metadata": {},
     "output_type": "execute_result"
    }
   ],
   "source": [
    "len(tagged)"
   ]
  },
  {
   "cell_type": "code",
   "execution_count": 76,
   "metadata": {
    "collapsed": false
   },
   "outputs": [
    {
     "data": {
      "text/plain": [
       "[(u'needs', 'NNS'), (u'password', 'NN'), (u'reset', 'NN')]"
      ]
     },
     "execution_count": 76,
     "metadata": {},
     "output_type": "execute_result"
    }
   ],
   "source": [
    "tagged[0]"
   ]
  },
  {
   "cell_type": "code",
   "execution_count": 99,
   "metadata": {
    "collapsed": true
   },
   "outputs": [],
   "source": [
    "qry_case_type='''\n",
    "select top 25 case_type__c,count(*) cnt\n",
    "--,subject \n",
    "\tfrom dbo.[case]\n",
    "    where incident_Region__c = 'North America'\n",
    "    and subject is not null\n",
    "    group by case_type__c\n",
    "    order by cnt desc\n",
    "'''"
   ]
  },
  {
   "cell_type": "code",
   "execution_count": 100,
   "metadata": {
    "collapsed": true
   },
   "outputs": [],
   "source": [
    "df_case_type=sfdc.fetchDF(qry_case_type)"
   ]
  },
  {
   "cell_type": "code",
   "execution_count": 85,
   "metadata": {
    "collapsed": false
   },
   "outputs": [],
   "source": [
    "import matplotlib.pyplot as plt"
   ]
  },
  {
   "cell_type": "code",
   "execution_count": 87,
   "metadata": {
    "collapsed": false
   },
   "outputs": [],
   "source": [
    "%matplotlib inline"
   ]
  },
  {
   "cell_type": "code",
   "execution_count": 116,
   "metadata": {
    "collapsed": false
   },
   "outputs": [
    {
     "name": "stdout",
     "output_type": "stream",
     "text": [
      "<class 'pandas.core.frame.DataFrame'>\n",
      "RangeIndex: 25 entries, 0 to 24\n",
      "Data columns (total 2 columns):\n",
      "case_type__c    24 non-null object\n",
      "cnt             25 non-null int64\n",
      "dtypes: int64(1), object(1)\n",
      "memory usage: 472.0+ bytes\n"
     ]
    }
   ],
   "source": [
    "df_case_type.info()"
   ]
  },
  {
   "cell_type": "code",
   "execution_count": 101,
   "metadata": {
    "collapsed": false
   },
   "outputs": [
    {
     "data": {
      "text/plain": [
       "<matplotlib.axes._subplots.AxesSubplot at 0x1197523d0>"
      ]
     },
     "execution_count": 101,
     "metadata": {},
     "output_type": "execute_result"
    },
    {
     "data": {
      "image/png": "[encoded data removed]",
      "text/plain": [
       "<matplotlib.figure.Figure at 0x11ba0d1d0>"
      ]
     },
     "metadata": {},
     "output_type": "display_data"
    }
   ],
   "source": [
    "df_case_type.plot.bar(x='case_type__c')"
   ]
  },
  {
   "cell_type": "code",
   "execution_count": 109,
   "metadata": {
    "collapsed": true
   },
   "outputs": [],
   "source": [
    "s3=u'''\n",
    "select top 25 case_type__c\n",
    "\t,  cast(100. * count(*) / (select count(*) from dbo.[case] where incident_Region__c = 'North America') as numeric(5,2))as pct\n",
    "--,subject \n",
    "\tfrom dbo.[case]\n",
    "    where incident_Region__c = 'North America'\n",
    "    and subject is not null\n",
    "    group by case_type__c\n",
    "    order by pct desc\n",
    "'''"
   ]
  },
  {
   "cell_type": "code",
   "execution_count": 110,
   "metadata": {
    "collapsed": false
   },
   "outputs": [],
   "source": [
    "df3=sfdc.fetchDF(s3)"
   ]
  },
  {
   "cell_type": "code",
   "execution_count": 115,
   "metadata": {
    "collapsed": false
   },
   "outputs": [
    {
     "ename": "TypeError",
     "evalue": "Empty 'DataFrame': no numeric data to plot",
     "output_type": "error",
     "traceback": [
      "\u001b[0;31m---------------------------------------------------------------------------\u001b[0m",
      "\u001b[0;31mTypeError\u001b[0m                                 Traceback (most recent call last)",
      "\u001b[0;32m<ipython-input-115-dcacb89cf04c>\u001b[0m in \u001b[0;36m<module>\u001b[0;34m()\u001b[0m\n\u001b[0;32m----> 1\u001b[0;31m \u001b[0mdf3\u001b[0m\u001b[0;34m.\u001b[0m\u001b[0mplot\u001b[0m\u001b[0;34m.\u001b[0m\u001b[0mbar\u001b[0m\u001b[0;34m(\u001b[0m\u001b[0mx\u001b[0m\u001b[0;34m=\u001b[0m\u001b[0;34m'case_type__c'\u001b[0m\u001b[0;34m)\u001b[0m\u001b[0;34m\u001b[0m\u001b[0m\n\u001b[0m",
      "\u001b[0;32m/Users/jlam/miniconda2/lib/python2.7/site-packages/pandas/tools/plotting.pyc\u001b[0m in \u001b[0;36mbar\u001b[0;34m(self, x, y, **kwds)\u001b[0m\n\u001b[1;32m   3810\u001b[0m         \u001b[0maxes\u001b[0m \u001b[0;34m:\u001b[0m \u001b[0mmatplotlib\u001b[0m\u001b[0;34m.\u001b[0m\u001b[0mAxesSubplot\u001b[0m \u001b[0;32mor\u001b[0m \u001b[0mnp\u001b[0m\u001b[0;34m.\u001b[0m\u001b[0marray\u001b[0m \u001b[0mof\u001b[0m \u001b[0mthem\u001b[0m\u001b[0;34m\u001b[0m\u001b[0m\n\u001b[1;32m   3811\u001b[0m         \"\"\"\n\u001b[0;32m-> 3812\u001b[0;31m         \u001b[0;32mreturn\u001b[0m \u001b[0mself\u001b[0m\u001b[0;34m(\u001b[0m\u001b[0mkind\u001b[0m\u001b[0;34m=\u001b[0m\u001b[0;34m'bar'\u001b[0m\u001b[0;34m,\u001b[0m \u001b[0mx\u001b[0m\u001b[0;34m=\u001b[0m\u001b[0mx\u001b[0m\u001b[0;34m,\u001b[0m \u001b[0my\u001b[0m\u001b[0;34m=\u001b[0m\u001b[0my\u001b[0m\u001b[0;34m,\u001b[0m \u001b[0;34m**\u001b[0m\u001b[0mkwds\u001b[0m\u001b[0;34m)\u001b[0m\u001b[0;34m\u001b[0m\u001b[0m\n\u001b[0m\u001b[1;32m   3813\u001b[0m \u001b[0;34m\u001b[0m\u001b[0m\n\u001b[1;32m   3814\u001b[0m     \u001b[0;32mdef\u001b[0m \u001b[0mbarh\u001b[0m\u001b[0;34m(\u001b[0m\u001b[0mself\u001b[0m\u001b[0;34m,\u001b[0m \u001b[0mx\u001b[0m\u001b[0;34m=\u001b[0m\u001b[0mNone\u001b[0m\u001b[0;34m,\u001b[0m \u001b[0my\u001b[0m\u001b[0;34m=\u001b[0m\u001b[0mNone\u001b[0m\u001b[0;34m,\u001b[0m \u001b[0;34m**\u001b[0m\u001b[0mkwds\u001b[0m\u001b[0;34m)\u001b[0m\u001b[0;34m:\u001b[0m\u001b[0;34m\u001b[0m\u001b[0m\n",
      "\u001b[0;32m/Users/jlam/miniconda2/lib/python2.7/site-packages/pandas/tools/plotting.pyc\u001b[0m in \u001b[0;36m__call__\u001b[0;34m(self, x, y, kind, ax, subplots, sharex, sharey, layout, figsize, use_index, title, grid, legend, style, logx, logy, loglog, xticks, yticks, xlim, ylim, rot, fontsize, colormap, table, yerr, xerr, secondary_y, sort_columns, **kwds)\u001b[0m\n\u001b[1;32m   3771\u001b[0m                           \u001b[0mfontsize\u001b[0m\u001b[0;34m=\u001b[0m\u001b[0mfontsize\u001b[0m\u001b[0;34m,\u001b[0m \u001b[0mcolormap\u001b[0m\u001b[0;34m=\u001b[0m\u001b[0mcolormap\u001b[0m\u001b[0;34m,\u001b[0m \u001b[0mtable\u001b[0m\u001b[0;34m=\u001b[0m\u001b[0mtable\u001b[0m\u001b[0;34m,\u001b[0m\u001b[0;34m\u001b[0m\u001b[0m\n\u001b[1;32m   3772\u001b[0m                           \u001b[0myerr\u001b[0m\u001b[0;34m=\u001b[0m\u001b[0myerr\u001b[0m\u001b[0;34m,\u001b[0m \u001b[0mxerr\u001b[0m\u001b[0;34m=\u001b[0m\u001b[0mxerr\u001b[0m\u001b[0;34m,\u001b[0m \u001b[0msecondary_y\u001b[0m\u001b[0;34m=\u001b[0m\u001b[0msecondary_y\u001b[0m\u001b[0;34m,\u001b[0m\u001b[0;34m\u001b[0m\u001b[0m\n\u001b[0;32m-> 3773\u001b[0;31m                           sort_columns=sort_columns, **kwds)\n\u001b[0m\u001b[1;32m   3774\u001b[0m     \u001b[0m__call__\u001b[0m\u001b[0;34m.\u001b[0m\u001b[0m__doc__\u001b[0m \u001b[0;34m=\u001b[0m \u001b[0mplot_frame\u001b[0m\u001b[0;34m.\u001b[0m\u001b[0m__doc__\u001b[0m\u001b[0;34m\u001b[0m\u001b[0m\n\u001b[1;32m   3775\u001b[0m \u001b[0;34m\u001b[0m\u001b[0m\n",
      "\u001b[0;32m/Users/jlam/miniconda2/lib/python2.7/site-packages/pandas/tools/plotting.pyc\u001b[0m in \u001b[0;36mplot_frame\u001b[0;34m(data, x, y, kind, ax, subplots, sharex, sharey, layout, figsize, use_index, title, grid, legend, style, logx, logy, loglog, xticks, yticks, xlim, ylim, rot, fontsize, colormap, table, yerr, xerr, secondary_y, sort_columns, **kwds)\u001b[0m\n\u001b[1;32m   2640\u001b[0m                  \u001b[0myerr\u001b[0m\u001b[0;34m=\u001b[0m\u001b[0myerr\u001b[0m\u001b[0;34m,\u001b[0m \u001b[0mxerr\u001b[0m\u001b[0;34m=\u001b[0m\u001b[0mxerr\u001b[0m\u001b[0;34m,\u001b[0m\u001b[0;34m\u001b[0m\u001b[0m\n\u001b[1;32m   2641\u001b[0m                  \u001b[0msecondary_y\u001b[0m\u001b[0;34m=\u001b[0m\u001b[0msecondary_y\u001b[0m\u001b[0;34m,\u001b[0m \u001b[0msort_columns\u001b[0m\u001b[0;34m=\u001b[0m\u001b[0msort_columns\u001b[0m\u001b[0;34m,\u001b[0m\u001b[0;34m\u001b[0m\u001b[0m\n\u001b[0;32m-> 2642\u001b[0;31m                  **kwds)\n\u001b[0m\u001b[1;32m   2643\u001b[0m \u001b[0;34m\u001b[0m\u001b[0m\n\u001b[1;32m   2644\u001b[0m \u001b[0;34m\u001b[0m\u001b[0m\n",
      "\u001b[0;32m/Users/jlam/miniconda2/lib/python2.7/site-packages/pandas/tools/plotting.pyc\u001b[0m in \u001b[0;36m_plot\u001b[0;34m(data, x, y, subplots, ax, kind, **kwds)\u001b[0m\n\u001b[1;32m   2467\u001b[0m         \u001b[0mplot_obj\u001b[0m \u001b[0;34m=\u001b[0m \u001b[0mklass\u001b[0m\u001b[0;34m(\u001b[0m\u001b[0mdata\u001b[0m\u001b[0;34m,\u001b[0m \u001b[0msubplots\u001b[0m\u001b[0;34m=\u001b[0m\u001b[0msubplots\u001b[0m\u001b[0;34m,\u001b[0m \u001b[0max\u001b[0m\u001b[0;34m=\u001b[0m\u001b[0max\u001b[0m\u001b[0;34m,\u001b[0m \u001b[0mkind\u001b[0m\u001b[0;34m=\u001b[0m\u001b[0mkind\u001b[0m\u001b[0;34m,\u001b[0m \u001b[0;34m**\u001b[0m\u001b[0mkwds\u001b[0m\u001b[0;34m)\u001b[0m\u001b[0;34m\u001b[0m\u001b[0m\n\u001b[1;32m   2468\u001b[0m \u001b[0;34m\u001b[0m\u001b[0m\n\u001b[0;32m-> 2469\u001b[0;31m     \u001b[0mplot_obj\u001b[0m\u001b[0;34m.\u001b[0m\u001b[0mgenerate\u001b[0m\u001b[0;34m(\u001b[0m\u001b[0;34m)\u001b[0m\u001b[0;34m\u001b[0m\u001b[0m\n\u001b[0m\u001b[1;32m   2470\u001b[0m     \u001b[0mplot_obj\u001b[0m\u001b[0;34m.\u001b[0m\u001b[0mdraw\u001b[0m\u001b[0;34m(\u001b[0m\u001b[0;34m)\u001b[0m\u001b[0;34m\u001b[0m\u001b[0m\n\u001b[1;32m   2471\u001b[0m     \u001b[0;32mreturn\u001b[0m \u001b[0mplot_obj\u001b[0m\u001b[0;34m.\u001b[0m\u001b[0mresult\u001b[0m\u001b[0;34m\u001b[0m\u001b[0m\n",
      "\u001b[0;32m/Users/jlam/miniconda2/lib/python2.7/site-packages/pandas/tools/plotting.pyc\u001b[0m in \u001b[0;36mgenerate\u001b[0;34m(self)\u001b[0m\n\u001b[1;32m   1039\u001b[0m     \u001b[0;32mdef\u001b[0m \u001b[0mgenerate\u001b[0m\u001b[0;34m(\u001b[0m\u001b[0mself\u001b[0m\u001b[0;34m)\u001b[0m\u001b[0;34m:\u001b[0m\u001b[0;34m\u001b[0m\u001b[0m\n\u001b[1;32m   1040\u001b[0m         \u001b[0mself\u001b[0m\u001b[0;34m.\u001b[0m\u001b[0m_args_adjust\u001b[0m\u001b[0;34m(\u001b[0m\u001b[0;34m)\u001b[0m\u001b[0;34m\u001b[0m\u001b[0m\n\u001b[0;32m-> 1041\u001b[0;31m         \u001b[0mself\u001b[0m\u001b[0;34m.\u001b[0m\u001b[0m_compute_plot_data\u001b[0m\u001b[0;34m(\u001b[0m\u001b[0;34m)\u001b[0m\u001b[0;34m\u001b[0m\u001b[0m\n\u001b[0m\u001b[1;32m   1042\u001b[0m         \u001b[0mself\u001b[0m\u001b[0;34m.\u001b[0m\u001b[0m_setup_subplots\u001b[0m\u001b[0;34m(\u001b[0m\u001b[0;34m)\u001b[0m\u001b[0;34m\u001b[0m\u001b[0m\n\u001b[1;32m   1043\u001b[0m         \u001b[0mself\u001b[0m\u001b[0;34m.\u001b[0m\u001b[0m_make_plot\u001b[0m\u001b[0;34m(\u001b[0m\u001b[0;34m)\u001b[0m\u001b[0;34m\u001b[0m\u001b[0m\n",
      "\u001b[0;32m/Users/jlam/miniconda2/lib/python2.7/site-packages/pandas/tools/plotting.pyc\u001b[0m in \u001b[0;36m_compute_plot_data\u001b[0;34m(self)\u001b[0m\n\u001b[1;32m   1148\u001b[0m         \u001b[0;32mif\u001b[0m \u001b[0mis_empty\u001b[0m\u001b[0;34m:\u001b[0m\u001b[0;34m\u001b[0m\u001b[0m\n\u001b[1;32m   1149\u001b[0m             raise TypeError('Empty {0!r}: no numeric data to '\n\u001b[0;32m-> 1150\u001b[0;31m                             'plot'.format(numeric_data.__class__.__name__))\n\u001b[0m\u001b[1;32m   1151\u001b[0m \u001b[0;34m\u001b[0m\u001b[0m\n\u001b[1;32m   1152\u001b[0m         \u001b[0mself\u001b[0m\u001b[0;34m.\u001b[0m\u001b[0mdata\u001b[0m \u001b[0;34m=\u001b[0m \u001b[0mnumeric_data\u001b[0m\u001b[0;34m\u001b[0m\u001b[0m\n",
      "\u001b[0;31mTypeError\u001b[0m: Empty 'DataFrame': no numeric data to plot"
     ]
    }
   ],
   "source": [
    "df3.plot.bar(x='case_type__c')"
   ]
  },
  {
   "cell_type": "code",
   "execution_count": null,
   "metadata": {
    "collapsed": true
   },
   "outputs": [],
   "source": []
  },
  {
   "cell_type": "code",
   "execution_count": 105,
   "metadata": {
    "collapsed": false
   },
   "outputs": [],
   "source": [
    "qry_auth = '''select top 100 subject from dbo.[case]\n",
    "    where incident_Region__c = 'North America'\n",
    "    and case_type__c = 'User Experience - Authorization'\n",
    "    '''"
   ]
  },
  {
   "cell_type": "code",
   "execution_count": 106,
   "metadata": {
    "collapsed": false
   },
   "outputs": [],
   "source": [
    "df_auth_subject = sfdc.fetchDF(qry_auth)"
   ]
  },
  {
   "cell_type": "code",
   "execution_count": 107,
   "metadata": {
    "collapsed": false
   },
   "outputs": [
    {
     "data": {
      "text/html": [
       "<div>\n",
       "<table border=\"1\" class=\"dataframe\">\n",
       "  <thead>\n",
       "    <tr style=\"text-align: right;\">\n",
       "      <th></th>\n",
       "      <th>subject</th>\n",
       "    </tr>\n",
       "  </thead>\n",
       "  <tbody>\n",
       "    <tr>\n",
       "      <th>0</th>\n",
       "      <td>Has a question on traveler Mark Qualter</td>\n",
       "    </tr>\n",
       "    <tr>\n",
       "      <th>1</th>\n",
       "      <td>Why did document continue routing after reserv...</td>\n",
       "    </tr>\n",
       "    <tr>\n",
       "      <th>2</th>\n",
       "      <td>Cancelling an Authorization</td>\n",
       "    </tr>\n",
       "    <tr>\n",
       "      <th>3</th>\n",
       "      <td>Cancelling an Approved Authorization</td>\n",
       "    </tr>\n",
       "    <tr>\n",
       "      <th>4</th>\n",
       "      <td>Use a different authorization</td>\n",
       "    </tr>\n",
       "    <tr>\n",
       "      <th>5</th>\n",
       "      <td>Incorrect Cost Comparison</td>\n",
       "    </tr>\n",
       "    <tr>\n",
       "      <th>6</th>\n",
       "      <td>Adjusting Payment method for travel fees</td>\n",
       "    </tr>\n",
       "    <tr>\n",
       "      <th>7</th>\n",
       "      <td>Moving Organizations</td>\n",
       "    </tr>\n",
       "    <tr>\n",
       "      <th>8</th>\n",
       "      <td>FAILED INTERFACE error received and authorizat...</td>\n",
       "    </tr>\n",
       "    <tr>\n",
       "      <th>9</th>\n",
       "      <td>Travel authorization for Karen Sliter stuck in...</td>\n",
       "    </tr>\n",
       "    <tr>\n",
       "      <th>10</th>\n",
       "      <td>Unable to attach receipts to an authorization....</td>\n",
       "    </tr>\n",
       "    <tr>\n",
       "      <th>11</th>\n",
       "      <td>Cancel Authorization</td>\n",
       "    </tr>\n",
       "    <tr>\n",
       "      <th>12</th>\n",
       "      <td>Per diem location is not correct</td>\n",
       "    </tr>\n",
       "    <tr>\n",
       "      <th>13</th>\n",
       "      <td>Deleting Authorization</td>\n",
       "    </tr>\n",
       "    <tr>\n",
       "      <th>14</th>\n",
       "      <td>Caller needs a TMC fee change</td>\n",
       "    </tr>\n",
       "    <tr>\n",
       "      <th>15</th>\n",
       "      <td>submitted authorization but is showing cancel</td>\n",
       "    </tr>\n",
       "    <tr>\n",
       "      <th>16</th>\n",
       "      <td>Trip cancelled document in create status</td>\n",
       "    </tr>\n",
       "    <tr>\n",
       "      <th>17</th>\n",
       "      <td>Needed to set a \"to cancel\" stamp on an author...</td>\n",
       "    </tr>\n",
       "    <tr>\n",
       "      <th>18</th>\n",
       "      <td>Resubmit an authorization</td>\n",
       "    </tr>\n",
       "    <tr>\n",
       "      <th>19</th>\n",
       "      <td>Cannot Create an Amendment for Authorization #...</td>\n",
       "    </tr>\n",
       "    <tr>\n",
       "      <th>20</th>\n",
       "      <td>Question on how to set days as On Leave to tak...</td>\n",
       "    </tr>\n",
       "    <tr>\n",
       "      <th>21</th>\n",
       "      <td>Travel Fee Change Request</td>\n",
       "    </tr>\n",
       "    <tr>\n",
       "      <th>22</th>\n",
       "      <td>Authorization: add airfare process</td>\n",
       "    </tr>\n",
       "    <tr>\n",
       "      <th>23</th>\n",
       "      <td>User needs assistance with an authorization</td>\n",
       "    </tr>\n",
       "    <tr>\n",
       "      <th>24</th>\n",
       "      <td>Needs to see if his IBA card is entered into t...</td>\n",
       "    </tr>\n",
       "    <tr>\n",
       "      <th>25</th>\n",
       "      <td>Document not returned</td>\n",
       "    </tr>\n",
       "    <tr>\n",
       "      <th>26</th>\n",
       "      <td>EAI-FAILED status due to incorrect LOA</td>\n",
       "    </tr>\n",
       "    <tr>\n",
       "      <th>27</th>\n",
       "      <td>Request to change airfare payment method</td>\n",
       "    </tr>\n",
       "    <tr>\n",
       "      <th>28</th>\n",
       "      <td>Authorization: change travel dates</td>\n",
       "    </tr>\n",
       "    <tr>\n",
       "      <th>29</th>\n",
       "      <td>has a question on approving a document as they...</td>\n",
       "    </tr>\n",
       "    <tr>\n",
       "      <th>...</th>\n",
       "      <td>...</td>\n",
       "    </tr>\n",
       "    <tr>\n",
       "      <th>70</th>\n",
       "      <td>DATA FIX - Airfare Expense on Auth - ESCUDERO</td>\n",
       "    </tr>\n",
       "    <tr>\n",
       "      <th>71</th>\n",
       "      <td>training in columbia, maryland on doc#8485-page</td>\n",
       "    </tr>\n",
       "    <tr>\n",
       "      <th>72</th>\n",
       "      <td>Unable to stamp authorization DOC94305 for Mic...</td>\n",
       "    </tr>\n",
       "    <tr>\n",
       "      <th>73</th>\n",
       "      <td>User needs assistance with cancelling an autho...</td>\n",
       "    </tr>\n",
       "    <tr>\n",
       "      <th>74</th>\n",
       "      <td>Created two authorizations for the same travel...</td>\n",
       "    </tr>\n",
       "    <tr>\n",
       "      <th>75</th>\n",
       "      <td>Creating Authorization</td>\n",
       "    </tr>\n",
       "    <tr>\n",
       "      <th>76</th>\n",
       "      <td>How do I zero out lodging for personal days an...</td>\n",
       "    </tr>\n",
       "    <tr>\n",
       "      <th>77</th>\n",
       "      <td>Request for assistance with authorization</td>\n",
       "    </tr>\n",
       "    <tr>\n",
       "      <th>78</th>\n",
       "      <td>Authorization: how to mark days on leave</td>\n",
       "    </tr>\n",
       "    <tr>\n",
       "      <th>79</th>\n",
       "      <td>Error Posting - Error 90</td>\n",
       "    </tr>\n",
       "    <tr>\n",
       "      <th>80</th>\n",
       "      <td>Getting hardfails for Actuals exist on the vou...</td>\n",
       "    </tr>\n",
       "    <tr>\n",
       "      <th>81</th>\n",
       "      <td>Update M&amp;IE expenses</td>\n",
       "    </tr>\n",
       "    <tr>\n",
       "      <th>82</th>\n",
       "      <td>Authorization: adding multiple itinerary locat...</td>\n",
       "    </tr>\n",
       "    <tr>\n",
       "      <th>83</th>\n",
       "      <td>Cancel Authorization</td>\n",
       "    </tr>\n",
       "    <tr>\n",
       "      <th>84</th>\n",
       "      <td>Travel Fee change from CBA to GOVCC</td>\n",
       "    </tr>\n",
       "    <tr>\n",
       "      <th>85</th>\n",
       "      <td>Cancel Authorization</td>\n",
       "    </tr>\n",
       "    <tr>\n",
       "      <th>86</th>\n",
       "      <td>Request assistance with adding travel to an ex...</td>\n",
       "    </tr>\n",
       "    <tr>\n",
       "      <th>87</th>\n",
       "      <td>Remove stamp</td>\n",
       "    </tr>\n",
       "    <tr>\n",
       "      <th>88</th>\n",
       "      <td>Amending an Authorization</td>\n",
       "    </tr>\n",
       "    <tr>\n",
       "      <th>89</th>\n",
       "      <td>Deleting Authorization</td>\n",
       "    </tr>\n",
       "    <tr>\n",
       "      <th>90</th>\n",
       "      <td>Inquired about authorization status T08584 &amp; T...</td>\n",
       "    </tr>\n",
       "    <tr>\n",
       "      <th>91</th>\n",
       "      <td>Justifying Pre-audit Results and Stamping the ...</td>\n",
       "    </tr>\n",
       "    <tr>\n",
       "      <th>92</th>\n",
       "      <td>Justify Pre Audits Results</td>\n",
       "    </tr>\n",
       "    <tr>\n",
       "      <th>93</th>\n",
       "      <td>Booking Air/Creating Authorization</td>\n",
       "    </tr>\n",
       "    <tr>\n",
       "      <th>94</th>\n",
       "      <td>has several fails</td>\n",
       "    </tr>\n",
       "    <tr>\n",
       "      <th>95</th>\n",
       "      <td>need assistance changing lodging to actuals</td>\n",
       "    </tr>\n",
       "    <tr>\n",
       "      <th>96</th>\n",
       "      <td>Adding Expenses in an Authorization (TA 0120872)</td>\n",
       "    </tr>\n",
       "    <tr>\n",
       "      <th>97</th>\n",
       "      <td>Routing list update needed</td>\n",
       "    </tr>\n",
       "    <tr>\n",
       "      <th>98</th>\n",
       "      <td>Changing the sign status</td>\n",
       "    </tr>\n",
       "    <tr>\n",
       "      <th>99</th>\n",
       "      <td>reduce M&amp;IE to $5 a day</td>\n",
       "    </tr>\n",
       "  </tbody>\n",
       "</table>\n",
       "<p>100 rows × 1 columns</p>\n",
       "</div>"
      ],
      "text/plain": [
       "                                              subject\n",
       "0             Has a question on traveler Mark Qualter\n",
       "1   Why did document continue routing after reserv...\n",
       "2                         Cancelling an Authorization\n",
       "3                Cancelling an Approved Authorization\n",
       "4                       Use a different authorization\n",
       "5                           Incorrect Cost Comparison\n",
       "6            Adjusting Payment method for travel fees\n",
       "7                                Moving Organizations\n",
       "8   FAILED INTERFACE error received and authorizat...\n",
       "9   Travel authorization for Karen Sliter stuck in...\n",
       "10  Unable to attach receipts to an authorization....\n",
       "11                               Cancel Authorization\n",
       "12                   Per diem location is not correct\n",
       "13                             Deleting Authorization\n",
       "14                      Caller needs a TMC fee change\n",
       "15      submitted authorization but is showing cancel\n",
       "16           Trip cancelled document in create status\n",
       "17  Needed to set a \"to cancel\" stamp on an author...\n",
       "18                          Resubmit an authorization\n",
       "19  Cannot Create an Amendment for Authorization #...\n",
       "20  Question on how to set days as On Leave to tak...\n",
       "21                          Travel Fee Change Request\n",
       "22                 Authorization: add airfare process\n",
       "23        User needs assistance with an authorization\n",
       "24  Needs to see if his IBA card is entered into t...\n",
       "25                              Document not returned\n",
       "26             EAI-FAILED status due to incorrect LOA\n",
       "27           Request to change airfare payment method\n",
       "28                 Authorization: change travel dates\n",
       "29  has a question on approving a document as they...\n",
       "..                                                ...\n",
       "70      DATA FIX - Airfare Expense on Auth - ESCUDERO\n",
       "71    training in columbia, maryland on doc#8485-page\n",
       "72  Unable to stamp authorization DOC94305 for Mic...\n",
       "73  User needs assistance with cancelling an autho...\n",
       "74  Created two authorizations for the same travel...\n",
       "75                             Creating Authorization\n",
       "76  How do I zero out lodging for personal days an...\n",
       "77          Request for assistance with authorization\n",
       "78           Authorization: how to mark days on leave\n",
       "79                           Error Posting - Error 90\n",
       "80  Getting hardfails for Actuals exist on the vou...\n",
       "81                               Update M&IE expenses\n",
       "82  Authorization: adding multiple itinerary locat...\n",
       "83                               Cancel Authorization\n",
       "84                Travel Fee change from CBA to GOVCC\n",
       "85                               Cancel Authorization\n",
       "86  Request assistance with adding travel to an ex...\n",
       "87                                       Remove stamp\n",
       "88                          Amending an Authorization\n",
       "89                             Deleting Authorization\n",
       "90  Inquired about authorization status T08584 & T...\n",
       "91  Justifying Pre-audit Results and Stamping the ...\n",
       "92                         Justify Pre Audits Results\n",
       "93                 Booking Air/Creating Authorization\n",
       "94                                  has several fails\n",
       "95        need assistance changing lodging to actuals\n",
       "96   Adding Expenses in an Authorization (TA 0120872)\n",
       "97                         Routing list update needed\n",
       "98                           Changing the sign status\n",
       "99                            reduce M&IE to $5 a day\n",
       "\n",
       "[100 rows x 1 columns]"
      ]
     },
     "execution_count": 107,
     "metadata": {},
     "output_type": "execute_result"
    }
   ],
   "source": [
    "df_auth_subject"
   ]
  },
  {
   "cell_type": "code",
   "execution_count": null,
   "metadata": {
    "collapsed": true
   },
   "outputs": [],
   "source": [
    "cnst."
   ]
  }
 ],
 "metadata": {
  "anaconda-cloud": {},
  "kernelspec": {
   "display_name": "Python [conda root]",
   "language": "python",
   "name": "conda-root-py"
  },
  "language_info": {
   "codemirror_mode": {
    "name": "ipython",
    "version": 2
   },
   "file_extension": ".py",
   "mimetype": "text/x-python",
   "name": "python",
   "nbconvert_exporter": "python",
   "pygments_lexer": "ipython2",
   "version": "2.7.12"
  }
 },
 "nbformat": 4,
 "nbformat_minor": 1
}
