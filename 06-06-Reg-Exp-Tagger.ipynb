{
 "cells": [
  {
   "cell_type": "code",
   "execution_count": 1,
   "metadata": {
    "collapsed": true
   },
   "outputs": [],
   "source": [
    "import nltk"
   ]
  },
  {
   "cell_type": "code",
   "execution_count": 2,
   "metadata": {
    "collapsed": true
   },
   "outputs": [],
   "source": [
    "patterns = [\n",
    "    (r'.*ing$','VBG'),\n",
    "    (r'.*ed$','VBD'),\n",
    "    (r'.*es$','VBZ'),\n",
    "    (r'.*ould$','MD'),\n",
    "    (r'.*\\'s$', 'NN$'),\n",
    "    (r'.*s$', 'NNS'),\n",
    "    (r'^-?[0-9]+(.[0-9]+)?$', 'CD'),\n",
    "    (r'.*', 'NN')\n",
    "]"
   ]
  },
  {
   "cell_type": "code",
   "execution_count": 3,
   "metadata": {
    "collapsed": true
   },
   "outputs": [],
   "source": [
    "import jlam.nltk_util as nu"
   ]
  },
  {
   "cell_type": "code",
   "execution_count": 4,
   "metadata": {
    "collapsed": true
   },
   "outputs": [],
   "source": [
    "brown_sents = nu.get_brown_sents()"
   ]
  },
  {
   "cell_type": "code",
   "execution_count": 5,
   "metadata": {
    "collapsed": true
   },
   "outputs": [],
   "source": [
    "regexp_tagger = nltk.RegexpTagger(patterns)"
   ]
  },
  {
   "cell_type": "code",
   "execution_count": 6,
   "metadata": {
    "collapsed": true
   },
   "outputs": [
    {
     "data": {
      "text/plain": [
       "[(u'``', 'NN'),\n",
       " (u'Only', 'NN'),\n",
       " (u'a', 'NN'),\n",
       " (u'relative', 'NN'),\n",
       " (u'handful', 'NN'),\n",
       " (u'of', 'NN'),\n",
       " (u'such', 'NN'),\n",
       " (u'reports', 'NNS'),\n",
       " (u'was', 'NNS'),\n",
       " (u'received', 'VBD'),\n",
       " (u\"''\", 'NN'),\n",
       " (u',', 'NN'),\n",
       " (u'the', 'NN'),\n",
       " (u'jury', 'NN'),\n",
       " (u'said', 'NN'),\n",
       " (u',', 'NN'),\n",
       " (u'``', 'NN'),\n",
       " (u'considering', 'VBG'),\n",
       " (u'the', 'NN'),\n",
       " (u'widespread', 'NN'),\n",
       " (u'interest', 'NN'),\n",
       " (u'in', 'NN'),\n",
       " (u'the', 'NN'),\n",
       " (u'election', 'NN'),\n",
       " (u',', 'NN'),\n",
       " (u'the', 'NN'),\n",
       " (u'number', 'NN'),\n",
       " (u'of', 'NN'),\n",
       " (u'voters', 'NNS'),\n",
       " (u'and', 'NN'),\n",
       " (u'the', 'NN'),\n",
       " (u'size', 'NN'),\n",
       " (u'of', 'NN'),\n",
       " (u'this', 'NNS'),\n",
       " (u'city', 'NN'),\n",
       " (u\"''\", 'NN'),\n",
       " (u'.', 'NN')]"
      ]
     },
     "execution_count": 6,
     "metadata": {},
     "output_type": "execute_result"
    }
   ],
   "source": [
    "regexp_tagger.tag(brown_sents[3])"
   ]
  },
  {
   "cell_type": "code",
   "execution_count": 7,
   "metadata": {
    "collapsed": false
   },
   "outputs": [
    {
     "data": {
      "text/plain": [
       "0.20326391789486245"
      ]
     },
     "execution_count": 7,
     "metadata": {},
     "output_type": "execute_result"
    }
   ],
   "source": [
    "brown_tagged_sents = nu.get_brown_tagged_sents()\n",
    "regexp_tagger.evaluate(brown_tagged_sents)"
   ]
  },
  {
   "cell_type": "code",
   "execution_count": null,
   "metadata": {
    "collapsed": true
   },
   "outputs": [],
   "source": []
  }
 ],
 "metadata": {
  "kernelspec": {
   "display_name": "Python [conda root]",
   "language": "python",
   "name": "conda-root-py"
  },
  "language_info": {
   "codemirror_mode": {
    "name": "ipython",
    "version": 2
   },
   "file_extension": ".py",
   "mimetype": "text/x-python",
   "name": "python",
   "nbconvert_exporter": "python",
   "pygments_lexer": "ipython2",
   "version": "2.7.12"
  }
 },
 "nbformat": 4,
 "nbformat_minor": 2
}
