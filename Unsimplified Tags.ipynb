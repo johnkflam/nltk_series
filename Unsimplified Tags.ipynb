{
 "cells": [
  {
   "cell_type": "code",
   "execution_count": 1,
   "metadata": {
    "collapsed": true
   },
   "outputs": [],
   "source": [
    "import nltk\n",
    "from nltk.chunk.regexp import *"
   ]
  },
  {
   "cell_type": "code",
   "execution_count": 6,
   "metadata": {
    "collapsed": true
   },
   "outputs": [],
   "source": [
    "def findtags(tag_prefix, tagged_text):\n",
    "    cfd = nltk.ConditionalFreqDist((tag,word) for (word, tag) in tagged_text\n",
    "                                  if tag.startswith(tag_prefix))\n",
    "    return dict((tag, cfd[tag].most_common(5)) for tag in cfd.conditions())"
   ]
  },
  {
   "cell_type": "code",
   "execution_count": 7,
   "metadata": {
    "collapsed": false
   },
   "outputs": [],
   "source": [
    "tagdict = findtags('NN', nltk.corpus.brown.tagged_words(categories='news'))"
   ]
  },
  {
   "cell_type": "code",
   "execution_count": 9,
   "metadata": {
    "collapsed": false
   },
   "outputs": [
    {
     "name": "stdout",
     "output_type": "stream",
     "text": [
      " NN [(u'year', 137), (u'time', 97), (u'state', 88), (u'week', 85), (u'man', 72)]\n",
      "NN$ [(u\"year's\", 13), (u\"world's\", 8), (u\"state's\", 7), (u\"nation's\", 6), (u\"company's\", 6)]\n",
      "NN$-HL [(u\"Golf's\", 1), (u\"Navy's\", 1)]\n",
      "NN$-TL [(u\"President's\", 11), (u\"University's\", 3), (u\"League's\", 3), (u\"Gallery's\", 3), (u\"Army's\", 3)]\n",
      "NN-HL [(u'cut', 2), (u'Salary', 2), (u'condition', 2), (u'Question', 2), (u'business', 2)]\n",
      "NN-NC [(u'eva', 1), (u'ova', 1), (u'aya', 1)]\n",
      "NN-TL [(u'President', 88), (u'House', 68), (u'State', 59), (u'University', 42), (u'City', 41)]\n",
      "NN-TL-HL [(u'Fort', 2), (u'City', 1), (u'Commissioner', 1), (u'Grove', 1), (u'House', 1)]\n",
      "NNS [(u'years', 101), (u'members', 69), (u'people', 52), (u'sales', 51), (u'men', 46)]\n",
      "NNS$ [(u\"children's\", 7), (u\"women's\", 5), (u\"men's\", 3), (u\"janitors'\", 3), (u\"taxpayers'\", 2)]\n",
      "NNS$-HL [(u\"Dealers'\", 1), (u\"Idols'\", 1)]\n",
      "NNS$-TL [(u\"Women's\", 4), (u\"States'\", 3), (u\"Giants'\", 2), (u\"Officers'\", 1), (u\"Bombers'\", 1)]\n",
      "NNS-HL [(u'years', 1), (u'idols', 1), (u'Creations', 1), (u'thanks', 1), (u'centers', 1)]\n",
      "NNS-TL [(u'States', 38), (u'Nations', 11), (u'Masters', 10), (u'Rules', 9), (u'Communists', 9)]\n",
      "NNS-TL-HL [(u'Nations', 1)]\n"
     ]
    }
   ],
   "source": [
    "for tag in sorted(tagdict):\n",
    "    print tag,tagdict[tag]"
   ]
  },
  {
   "cell_type": "code",
   "execution_count": null,
   "metadata": {
    "collapsed": true
   },
   "outputs": [],
   "source": [
    "nltk.ConditionalFreqDist()"
   ]
  }
 ],
 "metadata": {
  "anaconda-cloud": {},
  "kernelspec": {
   "display_name": "Python [conda root]",
   "language": "python",
   "name": "conda-root-py"
  },
  "language_info": {
   "codemirror_mode": {
    "name": "ipython",
    "version": 2
   },
   "file_extension": ".py",
   "mimetype": "text/x-python",
   "name": "python",
   "nbconvert_exporter": "python",
   "pygments_lexer": "ipython2",
   "version": "2.7.12"
  }
 },
 "nbformat": 4,
 "nbformat_minor": 1
}
