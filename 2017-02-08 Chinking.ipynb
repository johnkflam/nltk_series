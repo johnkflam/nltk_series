{
 "cells": [
  {
   "cell_type": "code",
   "execution_count": 1,
   "metadata": {
    "collapsed": true
   },
   "outputs": [],
   "source": [
    "import nltk"
   ]
  },
  {
   "cell_type": "code",
   "execution_count": 2,
   "metadata": {
    "collapsed": true
   },
   "outputs": [],
   "source": [
    "from nltk.tokenize import sent_tokenize"
   ]
  },
  {
   "cell_type": "code",
   "execution_count": 3,
   "metadata": {
    "collapsed": true
   },
   "outputs": [],
   "source": [
    "news= ''' Republican President Donald Trump defended his immigration executive order on Wednesday as necessary for the nation's security in a speech to law enforcement officers in which he criticized U.S. courts as being political.'''"
   ]
  },
  {
   "cell_type": "code",
   "execution_count": 4,
   "metadata": {
    "collapsed": true
   },
   "outputs": [],
   "source": [
    "tokenized = sent_tokenize(news)"
   ]
  },
  {
   "cell_type": "code",
   "execution_count": 9,
   "metadata": {
    "collapsed": false
   },
   "outputs": [],
   "source": [
    "def process_content():\n",
    "    try:\n",
    "        for i in tokenized:\n",
    "            words = nltk.word_tokenize(i)\n",
    "            tagged = nltk.pos_tag(words)\n",
    "            #print tagged\n",
    "            \n",
    "            # chinking - keep out }{\n",
    "            #chunkGram = r\"\"\"Chunk: {<.*>+}\n",
    "            #    }<VB.?|IN|DT >+{\n",
    "            #\"\"\"\n",
    "            \n",
    "            chunkGram = r\"\"\"Chunk: {<NN.?|NNS.?>}\"\"\"\n",
    "            chunkParser = nltk.RegexpParser(chunkGram)\n",
    "            chunked = chunkParser.parse(tagged)\n",
    "            \n",
    "            chunked.draw()\n",
    "    except Exception as ex:\n",
    "        print str(ex)"
   ]
  },
  {
   "cell_type": "code",
   "execution_count": 10,
   "metadata": {
    "collapsed": false
   },
   "outputs": [
    {
     "name": "stdout",
     "output_type": "stream",
     "text": [
      "[('Republican', 'JJ'), ('President', 'NNP'), ('Donald', 'NNP'), ('Trump', 'NNP'), ('defended', 'VBD'), ('his', 'PRP$'), ('immigration', 'NN'), ('executive', 'NN'), ('order', 'NN'), ('on', 'IN'), ('Wednesday', 'NNP'), ('as', 'IN'), ('necessary', 'JJ'), ('for', 'IN'), ('the', 'DT'), ('nation', 'NN'), (\"'s\", 'POS'), ('security', 'NN'), ('in', 'IN'), ('a', 'DT'), ('speech', 'NN'), ('to', 'TO'), ('law', 'NN'), ('enforcement', 'NN'), ('officers', 'NNS'), ('in', 'IN'), ('which', 'WDT'), ('he', 'PRP'), ('criticized', 'VBD'), ('U.S.', 'NNP'), ('courts', 'NNS'), ('as', 'IN'), ('being', 'VBG'), ('political', 'JJ'), ('.', '.')]\n"
     ]
    }
   ],
   "source": [
    "process_content()"
   ]
  },
  {
   "cell_type": "code",
   "execution_count": null,
   "metadata": {
    "collapsed": true
   },
   "outputs": [],
   "source": []
  }
 ],
 "metadata": {
  "anaconda-cloud": {},
  "kernelspec": {
   "display_name": "Python [conda root]",
   "language": "python",
   "name": "conda-root-py"
  },
  "language_info": {
   "codemirror_mode": {
    "name": "ipython",
    "version": 2
   },
   "file_extension": ".py",
   "mimetype": "text/x-python",
   "name": "python",
   "nbconvert_exporter": "python",
   "pygments_lexer": "ipython2",
   "version": "2.7.12"
  }
 },
 "nbformat": 4,
 "nbformat_minor": 1
}
