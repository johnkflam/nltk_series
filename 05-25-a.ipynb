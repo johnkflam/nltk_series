{
 "cells": [
  {
   "cell_type": "code",
   "execution_count": 5,
   "metadata": {
    "collapsed": true
   },
   "outputs": [],
   "source": [
    "import nltk"
   ]
  },
  {
   "cell_type": "code",
   "execution_count": 6,
   "metadata": {
    "collapsed": false
   },
   "outputs": [
    {
     "name": "stdout",
     "output_type": "stream",
     "text": [
      "RB: adverb\n",
      "    occasionally unabatingly maddeningly adventurously professedly\n",
      "    stirringly prominently technologically magisterially predominately\n",
      "    swiftly fiscally pitilessly ...\n"
     ]
    }
   ],
   "source": [
    "nltk.help.upenn_tagset('RB')"
   ]
  },
  {
   "cell_type": "code",
   "execution_count": 7,
   "metadata": {
    "collapsed": true
   },
   "outputs": [],
   "source": [
    "from nltk.corpus import brown\n",
    "brown_tagged_sents = brown.tagged_sents(categories='news')\n",
    "brown_sents = brown.sents(categories = 'news')"
   ]
  },
  {
   "cell_type": "code",
   "execution_count": 8,
   "metadata": {
    "collapsed": true
   },
   "outputs": [],
   "source": [
    "def performance(cfd, wordlist):\n",
    "    lt = dict((word, cfd[word].max()) for word in wordlist)\n",
    "    baseline_tagger = nltk.UnigramTagger(model=lt, backoff=nltk.DefaultTagger('NN'))\n",
    "    return baseline_tagger.evaluate(brown.tagged_sents(categories='news'))\n",
    "\n",
    "def display():\n",
    "    import pylab\n",
    "    words_by_freq = list(nltk.FreqDist(brown.words(categories='news')))\n",
    "    cfd = nltk.ConditionalFreqDist(brown.tagged_words(categories='news'))\n",
    "    sizes = 2 ** pylab.arange(15)\n",
    "    perfs = [performance(cfd, words_by_freq[:size]) for size in sizes]\n",
    "    pylab.plot(sizes, perfs, '-bo')\n",
    "    pylab.title('Lookup Tagger Performance with Varying Model Size')\n",
    "    pylab.xlabel('Model Size')\n",
    "    pylab.ylabel('Performance')\n",
    "    pylab.show()"
   ]
  },
  {
   "cell_type": "code",
   "execution_count": 9,
   "metadata": {
    "collapsed": false
   },
   "outputs": [
    {
     "data": {
      "image/png": "[encoded data removed]",
      "text/plain": [
       "<matplotlib.figure.Figure at 0x10dbb3450>"
      ]
     },
     "metadata": {},
     "output_type": "display_data"
    }
   ],
   "source": [
    "display()"
   ]
  },
  {
   "cell_type": "code",
   "execution_count": 6,
   "metadata": {
    "collapsed": true
   },
   "outputs": [],
   "source": [
    "unigram_tagger = nltk.UnigramTagger(brown_tagged_sents)"
   ]
  },
  {
   "cell_type": "code",
   "execution_count": 7,
   "metadata": {
    "collapsed": true
   },
   "outputs": [
    {
     "data": {
      "text/plain": [
       "[(u'Various', u'JJ'),\n",
       " (u'of', u'IN'),\n",
       " (u'the', u'AT'),\n",
       " (u'apartments', u'NNS'),\n",
       " (u'are', u'BER'),\n",
       " (u'of', u'IN'),\n",
       " (u'the', u'AT'),\n",
       " (u'terrace', u'NN'),\n",
       " (u'type', u'NN'),\n",
       " (u',', u','),\n",
       " (u'being', u'BEG'),\n",
       " (u'on', u'IN'),\n",
       " (u'the', u'AT'),\n",
       " (u'ground', u'NN'),\n",
       " (u'floor', u'NN'),\n",
       " (u'so', u'QL'),\n",
       " (u'that', u'CS'),\n",
       " (u'entrance', u'NN'),\n",
       " (u'is', u'BEZ'),\n",
       " (u'direct', u'JJ'),\n",
       " (u'.', u'.')]"
      ]
     },
     "execution_count": 7,
     "metadata": {},
     "output_type": "execute_result"
    }
   ],
   "source": [
    "unigram_tagger.tag(brown_sents[2007])"
   ]
  },
  {
   "cell_type": "code",
   "execution_count": 8,
   "metadata": {
    "collapsed": false
   },
   "outputs": [
    {
     "data": {
      "text/plain": [
       "0.9349006503968017"
      ]
     },
     "execution_count": 8,
     "metadata": {},
     "output_type": "execute_result"
    }
   ],
   "source": [
    "unigram_tagger.evaluate(brown_tagged_sents)"
   ]
  },
  {
   "cell_type": "code",
   "execution_count": 3,
   "metadata": {
    "collapsed": false
   },
   "outputs": [
    {
     "data": {
      "text/plain": [
       "'/Users/jlam/miniconda2/lib/python2.7/site-packages/nltk/corpus/__init__.pyc'"
      ]
     },
     "execution_count": 3,
     "metadata": {},
     "output_type": "execute_result"
    }
   ],
   "source": [
    "nltk.corpus.__file__\n"
   ]
  },
  {
   "cell_type": "code",
   "execution_count": 5,
   "metadata": {
    "collapsed": false
   },
   "outputs": [],
   "source": [
    "from nltk.corpus import brown"
   ]
  },
  {
   "cell_type": "code",
   "execution_count": 6,
   "metadata": {
    "collapsed": true
   },
   "outputs": [
    {
     "data": {
      "text/plain": [
       "['_LazyCorpusLoader__args',\n",
       " '_LazyCorpusLoader__kwargs',\n",
       " '_LazyCorpusLoader__name',\n",
       " '_LazyCorpusLoader__reader_cls',\n",
       " '__class__',\n",
       " '__delattr__',\n",
       " '__dict__',\n",
       " '__doc__',\n",
       " '__format__',\n",
       " '__getattribute__',\n",
       " '__hash__',\n",
       " '__init__',\n",
       " '__module__',\n",
       " '__name__',\n",
       " '__new__',\n",
       " '__reduce__',\n",
       " '__reduce_ex__',\n",
       " '__repr__',\n",
       " '__setattr__',\n",
       " '__sizeof__',\n",
       " '__str__',\n",
       " '__subclasshook__',\n",
       " '__unicode__',\n",
       " '__weakref__',\n",
       " '_add',\n",
       " '_get_root',\n",
       " '_init',\n",
       " '_resolve',\n",
       " 'abspath',\n",
       " 'abspaths',\n",
       " 'categories',\n",
       " 'citation',\n",
       " 'encoding',\n",
       " 'ensure_loaded',\n",
       " 'fileids',\n",
       " 'license',\n",
       " 'open',\n",
       " 'paras',\n",
       " 'raw',\n",
       " 'readme',\n",
       " 'root',\n",
       " 'sents',\n",
       " 'subdir',\n",
       " 'tagged_paras',\n",
       " 'tagged_sents',\n",
       " 'tagged_words',\n",
       " 'unicode_repr',\n",
       " 'words']"
      ]
     },
     "execution_count": 6,
     "metadata": {},
     "output_type": "execute_result"
    }
   ],
   "source": [
    "dir(brown)"
   ]
  },
  {
   "cell_type": "code",
   "execution_count": 7,
   "metadata": {
    "collapsed": false
   },
   "outputs": [
    {
     "data": {
      "text/plain": [
       "[[(u'The', u'AT'), (u'Fulton', u'NP-TL'), (u'County', u'NN-TL'), (u'Grand', u'JJ-TL'), (u'Jury', u'NN-TL'), (u'said', u'VBD'), (u'Friday', u'NR'), (u'an', u'AT'), (u'investigation', u'NN'), (u'of', u'IN'), (u\"Atlanta's\", u'NP$'), (u'recent', u'JJ'), (u'primary', u'NN'), (u'election', u'NN'), (u'produced', u'VBD'), (u'``', u'``'), (u'no', u'AT'), (u'evidence', u'NN'), (u\"''\", u\"''\"), (u'that', u'CS'), (u'any', u'DTI'), (u'irregularities', u'NNS'), (u'took', u'VBD'), (u'place', u'NN'), (u'.', u'.')], [(u'The', u'AT'), (u'jury', u'NN'), (u'further', u'RBR'), (u'said', u'VBD'), (u'in', u'IN'), (u'term-end', u'NN'), (u'presentments', u'NNS'), (u'that', u'CS'), (u'the', u'AT'), (u'City', u'NN-TL'), (u'Executive', u'JJ-TL'), (u'Committee', u'NN-TL'), (u',', u','), (u'which', u'WDT'), (u'had', u'HVD'), (u'over-all', u'JJ'), (u'charge', u'NN'), (u'of', u'IN'), (u'the', u'AT'), (u'election', u'NN'), (u',', u','), (u'``', u'``'), (u'deserves', u'VBZ'), (u'the', u'AT'), (u'praise', u'NN'), (u'and', u'CC'), (u'thanks', u'NNS'), (u'of', u'IN'), (u'the', u'AT'), (u'City', u'NN-TL'), (u'of', u'IN-TL'), (u'Atlanta', u'NP-TL'), (u\"''\", u\"''\"), (u'for', u'IN'), (u'the', u'AT'), (u'manner', u'NN'), (u'in', u'IN'), (u'which', u'WDT'), (u'the', u'AT'), (u'election', u'NN'), (u'was', u'BEDZ'), (u'conducted', u'VBN'), (u'.', u'.')], ...]"
      ]
     },
     "execution_count": 7,
     "metadata": {},
     "output_type": "execute_result"
    }
   ],
   "source": [
    "brown.tagged_sents()"
   ]
  },
  {
   "cell_type": "code",
   "execution_count": 8,
   "metadata": {
    "collapsed": false
   },
   "outputs": [
    {
     "name": "stdout",
     "output_type": "stream",
     "text": [
      "No matching tags found.\n"
     ]
    }
   ],
   "source": [
    "nltk.help.upenn_tagset('NP-TL')"
   ]
  },
  {
   "cell_type": "code",
   "execution_count": 11,
   "metadata": {
    "collapsed": false
   },
   "outputs": [],
   "source": [
    "tw=brown.tagged_words(categories='news')"
   ]
  },
  {
   "cell_type": "code",
   "execution_count": 12,
   "metadata": {
    "collapsed": false
   },
   "outputs": [
    {
     "data": {
      "text/plain": [
       "100554"
      ]
     },
     "execution_count": 12,
     "metadata": {},
     "output_type": "execute_result"
    }
   ],
   "source": [
    "len(tw)"
   ]
  },
  {
   "cell_type": "code",
   "execution_count": 13,
   "metadata": {
    "collapsed": true
   },
   "outputs": [],
   "source": [
    "fd=nltk.FreqDist(tag for (word,tag) in tw)"
   ]
  },
  {
   "cell_type": "code",
   "execution_count": 15,
   "metadata": {
    "collapsed": false
   },
   "outputs": [
    {
     "data": {
      "text/plain": [
       "[u'BE',\n",
       " u'BEZ-HL',\n",
       " u'NP$',\n",
       " u'WQL',\n",
       " u'AT-TL',\n",
       " u'BEDZ*',\n",
       " u'WDT',\n",
       " u'JJ',\n",
       " u'NR-HL',\n",
       " u'AP$',\n",
       " u'RP',\n",
       " u'WPS+BEZ',\n",
       " u'JJ-NC',\n",
       " u'(',\n",
       " u'PPSS+BER',\n",
       " u',',\n",
       " u'VBN-TL-HL',\n",
       " u'HVD-HL',\n",
       " u'PPSS+BEM',\n",
       " u'NPS-HL',\n",
       " u'RB',\n",
       " u'FW-PP$-NC',\n",
       " u'JJ-HL',\n",
       " u'NNS',\n",
       " u'WRB',\n",
       " u'MD-TL',\n",
       " u'NN-NC',\n",
       " u'DOD*',\n",
       " u'NN$',\n",
       " u'PPLS',\n",
       " u')-HL',\n",
       " u'BEZ*',\n",
       " u'RB-HL',\n",
       " u'NNS$',\n",
       " u'NPS-TL',\n",
       " u'NNS-HL',\n",
       " u'FW-IN+NN-TL',\n",
       " u'--',\n",
       " u'BER-TL',\n",
       " u'OD',\n",
       " u'PP$$',\n",
       " u'CC-TL',\n",
       " u'FW-NN-TL',\n",
       " u'NP-TL-HL',\n",
       " u'AP-TL',\n",
       " u'PPSS+MD',\n",
       " u'FW-JJ',\n",
       " u'FW-DT',\n",
       " u'BER*',\n",
       " u'FW-WDT',\n",
       " u'NPS',\n",
       " u'DTI',\n",
       " u'BEN',\n",
       " u'BEM',\n",
       " u'EX+BEZ',\n",
       " u'HV',\n",
       " u'BEG',\n",
       " u'BED',\n",
       " u'HVD',\n",
       " u'BEZ',\n",
       " u'DTX',\n",
       " u'FW-VB-NC',\n",
       " u'VBZ',\n",
       " u'DTS',\n",
       " u'RB-TL',\n",
       " u'VB-TL',\n",
       " u'NNS-TL',\n",
       " u'FW-CC',\n",
       " u'CS-HL',\n",
       " u'NP$-TL',\n",
       " u'FW-CD',\n",
       " u'ABN-HL',\n",
       " u'IN-HL',\n",
       " u'JJT-HL',\n",
       " u'BED*',\n",
       " u'BEDZ',\n",
       " u'NN-TL-HL',\n",
       " u'PN',\n",
       " u'JJR-HL',\n",
       " u'FW-AT-TL',\n",
       " u'PPSS+HVD',\n",
       " u'VBD-HL',\n",
       " u'MD-HL',\n",
       " u'NNS-TL-HL',\n",
       " u'DTI-HL',\n",
       " u'EX',\n",
       " u'VBN-HL',\n",
       " u'NNS$-HL',\n",
       " u'PPSS-HL',\n",
       " u'MD',\n",
       " u'BE-HL',\n",
       " u'TO-TL',\n",
       " u'NN-HL',\n",
       " u'VBZ-HL',\n",
       " u'NR$-TL',\n",
       " u'DT$',\n",
       " u'WP$',\n",
       " u'MD+HV',\n",
       " u'TO-HL',\n",
       " u'PPS+BEZ',\n",
       " u'DT-HL',\n",
       " u'CD$',\n",
       " u'VBG',\n",
       " u'VBD',\n",
       " u'VBN-TL',\n",
       " u'DOZ*',\n",
       " u'VBN',\n",
       " u'DOD',\n",
       " u'UH-TL',\n",
       " u'DOZ',\n",
       " u'NR-TL',\n",
       " u'AP-HL',\n",
       " u'AT-HL',\n",
       " u'.',\n",
       " u'FW-AT',\n",
       " u'NN',\n",
       " u'(-HL',\n",
       " u'MD*-HL',\n",
       " u'*',\n",
       " u'WPS',\n",
       " u'WPO',\n",
       " u'FW-NNS',\n",
       " u'NP',\n",
       " u'JJR-NC',\n",
       " u'NR',\n",
       " u':',\n",
       " u'BER-HL',\n",
       " u'MD*',\n",
       " u'``',\n",
       " u':-HL',\n",
       " u'RP-HL',\n",
       " u'CC',\n",
       " u'PP$-TL',\n",
       " u'WDT+BEZ',\n",
       " u'CD-HL',\n",
       " u'NPS$-TL',\n",
       " u'CD',\n",
       " u'DT+BEZ',\n",
       " u',-HL',\n",
       " u'OD-HL',\n",
       " u'PPS+MD',\n",
       " u'CS',\n",
       " u'NN$-HL',\n",
       " u'NP-TL',\n",
       " u'QL-TL',\n",
       " u'DO*',\n",
       " u'PPS+BEZ-HL',\n",
       " u'VB-HL',\n",
       " u'DO-HL',\n",
       " u'HVN',\n",
       " u'JJT',\n",
       " u'JJS',\n",
       " u'JJR',\n",
       " u'HVG',\n",
       " u'HVZ',\n",
       " u'PN+HVZ',\n",
       " u'NNS$-TL',\n",
       " u'CC-HL',\n",
       " u'JJ-TL',\n",
       " u'HVZ*',\n",
       " u'VBG-TL',\n",
       " u'DO',\n",
       " u'FW-JJ-TL',\n",
       " u'FW-*',\n",
       " u'NP+BEZ',\n",
       " u'NP-HL',\n",
       " u'NPS$',\n",
       " u'NN-TL',\n",
       " u'PPSS',\n",
       " u'NR$',\n",
       " u\"''\",\n",
       " u'BER',\n",
       " u'FW-VB',\n",
       " u'PN-HL',\n",
       " u'CD-TL',\n",
       " u'BEDZ-HL',\n",
       " u'DT',\n",
       " u'VBD-TL',\n",
       " u'PN$',\n",
       " u'VB+PPO',\n",
       " u')',\n",
       " u'VBG-HL',\n",
       " u'PPO',\n",
       " u'PPL',\n",
       " u'PPS',\n",
       " u'TO',\n",
       " u'RB$',\n",
       " u'FW-IN+NN',\n",
       " u'UH',\n",
       " u'VB',\n",
       " u'OD-TL',\n",
       " u'FW-IN',\n",
       " u'PP$',\n",
       " u'RBT',\n",
       " u'ABL',\n",
       " u'RBR',\n",
       " u'ABN',\n",
       " u'AP',\n",
       " u'PPSS+HV',\n",
       " u'AT',\n",
       " u'JJS-TL',\n",
       " u'IN',\n",
       " u'ABX',\n",
       " u'*-HL',\n",
       " u'FW-AT-HL',\n",
       " u'HVD*',\n",
       " u\"'\",\n",
       " u'JJR-TL',\n",
       " u'RB+BEZ',\n",
       " u'NN$-TL',\n",
       " u'FW-IN-TL',\n",
       " u'QLP',\n",
       " u'IN-TL',\n",
       " u'FW-NN',\n",
       " u'FW-IN+AT-TL',\n",
       " u'PPS+HVZ',\n",
       " u'QL',\n",
       " u'.-HL']"
      ]
     },
     "execution_count": 15,
     "metadata": {},
     "output_type": "execute_result"
    }
   ],
   "source": [
    "fd.keys()"
   ]
  },
  {
   "cell_type": "code",
   "execution_count": 18,
   "metadata": {
    "collapsed": false
   },
   "outputs": [],
   "source": [
    "words = nltk.corpus.words.words('en')\n",
    "anagrams = nltk.Index((''.join(sorted(w)),w) for w in words)"
   ]
  },
  {
   "cell_type": "code",
   "execution_count": 25,
   "metadata": {
    "collapsed": false
   },
   "outputs": [
    {
     "data": {
      "text/plain": [
       "[]"
      ]
     },
     "execution_count": 25,
     "metadata": {},
     "output_type": "execute_result"
    }
   ],
   "source": [
    "anagrams['trenail']"
   ]
  },
  {
   "cell_type": "code",
   "execution_count": 26,
   "metadata": {
    "collapsed": true
   },
   "outputs": [],
   "source": [
    "s = 'john is such an awesome guy'"
   ]
  },
  {
   "cell_type": "code",
   "execution_count": 33,
   "metadata": {
    "collapsed": false
   },
   "outputs": [],
   "source": [
    "tokens=nltk.word_tokenize(s)"
   ]
  },
  {
   "cell_type": "code",
   "execution_count": 34,
   "metadata": {
    "collapsed": false
   },
   "outputs": [
    {
     "data": {
      "text/plain": [
       "[('john', 'NN'),\n",
       " ('is', 'VBZ'),\n",
       " ('such', 'JJ'),\n",
       " ('an', 'DT'),\n",
       " ('awesome', 'JJ'),\n",
       " ('guy', 'NN')]"
      ]
     },
     "execution_count": 34,
     "metadata": {},
     "output_type": "execute_result"
    }
   ],
   "source": [
    "nltk.pos_tag(tokens)"
   ]
  },
  {
   "cell_type": "code",
   "execution_count": null,
   "metadata": {
    "collapsed": true
   },
   "outputs": [],
   "source": []
  }
 ],
 "metadata": {
  "anaconda-cloud": {},
  "kernelspec": {
   "display_name": "Python [conda root]",
   "language": "python",
   "name": "conda-root-py"
  },
  "language_info": {
   "codemirror_mode": {
    "name": "ipython",
    "version": 2
   },
   "file_extension": ".py",
   "mimetype": "text/x-python",
   "name": "python",
   "nbconvert_exporter": "python",
   "pygments_lexer": "ipython2",
   "version": "2.7.12"
  }
 },
 "nbformat": 4,
 "nbformat_minor": 2
}
